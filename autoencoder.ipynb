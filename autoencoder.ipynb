{
 "cells": [
  {
   "cell_type": "code",
   "execution_count": 79,
   "metadata": {},
   "outputs": [
    {
     "name": "stdout",
     "output_type": "stream",
     "text": [
      "iter:50 training loss: 699.5076293945312, val loss: 699.5736083984375\n",
      "iter:100 training loss: 130.7815704345703, val loss: 130.93043518066406\n",
      "iter:150 training loss: 49.39470672607422, val loss: 49.64290237426758\n",
      "iter:200 training loss: 25.636274337768555, val loss: 25.87879753112793\n",
      "iter:250 training loss: 17.09954261779785, val loss: 17.27937889099121\n",
      "iter:300 training loss: 13.428689002990723, val loss: 13.597479820251465\n",
      "iter:350 training loss: 11.319491386413574, val loss: 11.481374740600586\n",
      "iter:400 training loss: 9.944133758544922, val loss: 10.099468231201172\n",
      "iter:450 training loss: 8.970494270324707, val loss: 9.116514205932617\n",
      "iter:500 training loss: 8.251884460449219, val loss: 8.396244049072266\n",
      "iter:550 training loss: 7.710432529449463, val loss: 7.855483055114746\n",
      "iter:600 training loss: 7.301183700561523, val loss: 7.445988655090332\n",
      "iter:650 training loss: 6.985186576843262, val loss: 7.132332801818848\n",
      "iter:700 training loss: 6.739422798156738, val loss: 6.88576602935791\n",
      "iter:750 training loss: 6.546104431152344, val loss: 6.690168380737305\n",
      "iter:800 training loss: 6.387262344360352, val loss: 6.529263019561768\n",
      "iter:850 training loss: 6.254095077514648, val loss: 6.393871784210205\n",
      "iter:900 training loss: 6.1405839920043945, val loss: 6.278110027313232\n",
      "iter:950 training loss: 6.042439937591553, val loss: 6.17727518081665\n",
      "Took 30.137070894241333s for 1000 epochs\n"
     ]
    },
    {
     "data": {
      "image/png": "[encoded data removed]",
      "text/plain": [
       "<Figure size 640x480 with 1 Axes>"
      ]
     },
     "metadata": {},
     "output_type": "display_data"
    }
   ],
   "source": [
    "import torch\n",
    "import torch.nn as nn\n",
    "import torch.nn.functional as F\n",
    "from dataclasses import dataclass\n",
    "\n",
    "\n",
    "\n",
    "@dataclass\n",
    "class SAE_Config:\n",
    "    input_size : int = 5\n",
    "    hidden_size : int = 20\n",
    "    l1_coefficient : int = 0.01\n",
    "\n",
    "\n",
    "class SAE(nn.Module):\n",
    "    def __init__(self, config : SAE_Config) -> None:\n",
    "        super().__init__()\n",
    "        self.config = config\n",
    "        self.encoder = nn.Linear(config.input_size, config.hidden_size)\n",
    "        self.relu = nn.ReLU()\n",
    "        self.decoder = nn.Linear(config.hidden_size, config.input_size)\n",
    "    \n",
    "    def forward(self, input : torch.Tensor):\n",
    "        input = input - self.decoder.bias\n",
    "        hidden = self.encoder(input)\n",
    "        hidden = self.relu(hidden)\n",
    "        sparse_penalty = hidden.abs().sum()\n",
    "        idx = self.decoder(hidden)\n",
    "\n",
    "        l2_error = ((input-idx)**2).sum(-1).mean(0)\n",
    "\n",
    "        loss = l2_error + self.config.l1_coefficient*sparse_penalty\n",
    "\n",
    "        return idx, loss, hidden\n",
    "\n",
    "def sample_data(split = 'train'):\n",
    "    if split == 'train':\n",
    "        return training_dataset\n",
    "    return validation_dataset\n",
    "\n",
    "\n",
    "    \n",
    "\n",
    "\n",
    "\n",
    "import torch\n",
    "import torch.nn as nn\n",
    "import torch.nn.functional as F\n",
    "import random\n",
    "import matplotlib.pyplot as plt\n",
    "import time\n",
    "import numpy as np\n",
    "import plotly.express as px\n",
    "\n",
    "\n",
    "\n",
    "learning_rate = 0.003\n",
    "max_iters = 1000\n",
    "batch_size = 32\n",
    "\n",
    "iters = []\n",
    "loss_value = []\n",
    "val_loss_value = []\n",
    "\n",
    "dataset = torch.load(\"data/hidden.pt\")\n",
    "dataset_size = dataset.shape[0]\n",
    "training_dataset = dataset[:int(dataset_size*0.5)]\n",
    "validation_dataset = dataset[int(dataset_size*0.5):]\n",
    "model = SAE(SAE_Config())\n",
    "\n",
    "LOAD_MODEL = False\n",
    "PATH = \"models/basic_linear_0.99.bin\"\n",
    "if LOAD_MODEL:\n",
    "    model = SAE(SAE_Config())\n",
    "    model.load_state_dict(torch.load(PATH))\n",
    "    model.eval()\n",
    "else:\n",
    "    optimizer = torch.optim.Adam(model.parameters() , learning_rate, weight_decay= 1e-5)\n",
    "    start_time = time.time()\n",
    "    step_value = max_iters/20\n",
    "    for i in range(1, max_iters):\n",
    "        X= sample_data()\n",
    "        _, loss,_ = model(X)\n",
    "    \n",
    "        if i%step_value ==0 :\n",
    "            model.eval()\n",
    "            with torch.no_grad():\n",
    "                X_V = sample_data(split= 'val')\n",
    "                _, val_loss, _ = model(X_V)\n",
    "                iters.append(i)\n",
    "                loss_value.append(loss.item())\n",
    "                val_loss_value.append(val_loss.item())\n",
    "                print(f\"iter:{i} training loss: {loss.item()}, val loss: {val_loss.item()}\")\n",
    "            model.train()\n",
    "\n",
    "        optimizer.zero_grad(set_to_none=True)\n",
    "        #loss+= get_l1_penalty()\n",
    "        loss.backward()\n",
    "        optimizer.step()\n",
    "\n",
    "\n",
    "    end_time = time.time()\n",
    "    print(f\"Took {end_time-start_time}s for {max_iters} epochs\")\n",
    "\n",
    "    plt.xlabel(\"Epochs\")\n",
    "    plt.ylabel(\"Loss\")\n",
    "    plt.plot(iters,loss_value, color='blue', label=\"Training\")\n",
    "    plt.plot(iters, val_loss_value, \"red\", label = \"validation\")\n",
    "    plt.legend()\n",
    "\n",
    "\n",
    "\n",
    "        \n",
    "\n",
    "\n",
    "\n",
    "\n"
   ]
  },
  {
   "cell_type": "code",
   "execution_count": 80,
   "metadata": {},
   "outputs": [],
   "source": [
    "_, _, hidden = model(training_dataset[:10000])"
   ]
  },
  {
   "cell_type": "code",
   "execution_count": 85,
   "metadata": {},
   "outputs": [
    {
     "data": {
      "text/plain": [
       "tensor(128)"
      ]
     },
     "execution_count": 85,
     "metadata": {},
     "output_type": "execute_result"
    }
   ],
   "source": [
    "(hidden>0).sum(-1).sum()"
   ]
  },
  {
   "cell_type": "code",
   "execution_count": 29,
   "metadata": {},
   "outputs": [
    {
     "data": {
      "text/plain": [
       "torch.Size([327680, 5])"
      ]
     },
     "execution_count": 29,
     "metadata": {},
     "output_type": "execute_result"
    }
   ],
   "source": [
    "dataset.shape"
   ]
  },
  {
   "cell_type": "code",
   "execution_count": 18,
   "metadata": {},
   "outputs": [
    {
     "data": {
      "text/plain": [
       "tensor([2.0969, 0.4988, 0.7195, 1.4912, 1.0014, 1.7966, 0.4861, 1.4162, 0.6676,\n",
       "        1.1080])"
      ]
     },
     "execution_count": 18,
     "metadata": {},
     "output_type": "execute_result"
    }
   ],
   "source": [
    "c.sum(-1)"
   ]
  },
  {
   "cell_type": "code",
   "execution_count": 63,
   "metadata": {},
   "outputs": [
    {
     "ename": "TypeError",
     "evalue": "SAE.sample_data() got multiple values for argument 'split'",
     "output_type": "error",
     "traceback": [
      "\u001b[0;31m---------------------------------------------------------------------------\u001b[0m",
      "\u001b[0;31mTypeError\u001b[0m                                 Traceback (most recent call last)",
      "Cell \u001b[0;32mIn[63], line 1\u001b[0m\n\u001b[0;32m----> 1\u001b[0m \u001b[43mSAE\u001b[49m\u001b[38;5;241;43m.\u001b[39;49m\u001b[43msample_data\u001b[49m\u001b[43m(\u001b[49m\u001b[43msplit\u001b[49m\u001b[38;5;241;43m=\u001b[39;49m\u001b[43m \u001b[49m\u001b[38;5;124;43m'\u001b[39;49m\u001b[38;5;124;43mval\u001b[39;49m\u001b[38;5;124;43m'\u001b[39;49m\u001b[43m)\u001b[49m\n",
      "\u001b[0;31mTypeError\u001b[0m: SAE.sample_data() got multiple values for argument 'split'"
     ]
    }
   ],
   "source": [
    "SAE.sample_data(split= 'val')"
   ]
  },
  {
   "cell_type": "code",
   "execution_count": null,
   "metadata": {},
   "outputs": [],
   "source": []
  }
 ],
 "metadata": {
  "kernelspec": {
   "display_name": "interp",
   "language": "python",
   "name": "python3"
  },
  "language_info": {
   "codemirror_mode": {
    "name": "ipython",
    "version": 3
   },
   "file_extension": ".py",
   "mimetype": "text/x-python",
   "name": "python",
   "nbconvert_exporter": "python",
   "pygments_lexer": "ipython3",
   "version": "3.11.7"
  }
 },
 "nbformat": 4,
 "nbformat_minor": 2
}
