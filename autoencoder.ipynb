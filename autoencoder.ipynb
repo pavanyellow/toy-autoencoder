{
 "cells": [
  {
   "cell_type": "code",
   "execution_count": 7,
   "metadata": {},
   "outputs": [
    {
     "name": "stdout",
     "output_type": "stream",
     "text": [
      "iter:100 training loss: 0.40901005268096924, val loss: 0.4149837791919708\n",
      "iter:200 training loss: 0.2813495695590973, val loss: 0.27194762229919434\n",
      "iter:300 training loss: 0.20440241694450378, val loss: 0.2036176323890686\n",
      "iter:400 training loss: 0.1528485268354416, val loss: 0.16457849740982056\n",
      "iter:500 training loss: 0.14470617473125458, val loss: 0.14949822425842285\n",
      "iter:600 training loss: 0.1169661432504654, val loss: 0.11863810569047928\n",
      "iter:700 training loss: 0.11649281531572342, val loss: 0.11891971528530121\n",
      "iter:800 training loss: 0.11213523149490356, val loss: 0.10668999701738358\n",
      "iter:900 training loss: 0.09603536128997803, val loss: 0.09811557829380035\n",
      "iter:1000 training loss: 0.09051326662302017, val loss: 0.0975094735622406\n",
      "iter:1100 training loss: 0.09673171490430832, val loss: 0.09062492102384567\n",
      "iter:1200 training loss: 0.0799732431769371, val loss: 0.08466492593288422\n",
      "iter:1300 training loss: 0.0833178237080574, val loss: 0.08187399804592133\n",
      "iter:1400 training loss: 0.0885983258485794, val loss: 0.08390763401985168\n",
      "iter:1500 training loss: 0.06766491383314133, val loss: 0.07594740390777588\n",
      "iter:1600 training loss: 0.08000101894140244, val loss: 0.0749804750084877\n",
      "iter:1700 training loss: 0.07656212151050568, val loss: 0.07726927846670151\n",
      "iter:1800 training loss: 0.07276998460292816, val loss: 0.06162358075380325\n",
      "iter:1900 training loss: 0.07080546021461487, val loss: 0.08137508481740952\n",
      "Took 4.405604124069214s for 2000 epochs\n"
     ]
    },
    {
     "data": {
      "image/png": "[encoded data removed]",
      "text/plain": [
       "<Figure size 640x480 with 1 Axes>"
      ]
     },
     "metadata": {},
     "output_type": "display_data"
    }
   ],
   "source": [
    "import torch\n",
    "import torch.nn as nn\n",
    "import torch.nn.functional as F\n",
    "from dataclasses import dataclass\n",
    "from utils import *\n",
    "\n",
    "def sample_data(split = 'train'):\n",
    "    if split == 'train':\n",
    "        data =  training_dataset\n",
    "    else:\n",
    "        data = validation_dataset\n",
    "    \n",
    "    ix = torch.randperm(data.shape[0])[:batch_size]\n",
    "    \n",
    "    return data[ix]\n",
    "\n",
    "learning_rate = 0.01\n",
    "max_iters = 2000\n",
    "batch_size = 32\n",
    "\n",
    "iters = []\n",
    "loss_value = []\n",
    "val_loss_value = []\n",
    "\n",
    "dataset = torch.load(\"data/hidden.pt\")\n",
    "dataset_size = dataset.shape[0]\n",
    "training_dataset = dataset[:int(dataset_size*0.5)]\n",
    "validation_dataset = dataset[int(dataset_size*0.5):]\n",
    "model = SAE(SAE_Config())\n",
    "\n",
    "LOAD_MODEL = False\n",
    "PATH = \"models/basic_linear_0.99.bin\"\n",
    "if LOAD_MODEL:\n",
    "    model = SAE(SAE_Config())\n",
    "    model.load_state_dict(torch.load(PATH))\n",
    "    model.eval()\n",
    "else:\n",
    "    optimizer = torch.optim.Adam(model.parameters() , learning_rate, weight_decay= 1e-5)\n",
    "    start_time = time.time()\n",
    "    step_value = max_iters/20\n",
    "    for i in range(1, max_iters):\n",
    "        X= sample_data()\n",
    "        _, loss,_ = model(X)\n",
    "    \n",
    "        if i%step_value ==0 :\n",
    "            model.eval()\n",
    "            with torch.no_grad():\n",
    "                X_V = sample_data(split= 'val')\n",
    "                _, val_loss, _ = model(X_V)\n",
    "                iters.append(i)\n",
    "                loss_value.append(loss.item())\n",
    "                val_loss_value.append(val_loss.item())\n",
    "                print(f\"iter:{i} training loss: {loss.item()}, val loss: {val_loss.item()}\")\n",
    "            model.train()\n",
    "\n",
    "        optimizer.zero_grad(set_to_none=True)\n",
    "        loss.backward()\n",
    "        optimizer.step()\n",
    "\n",
    "\n",
    "    end_time = time.time()\n",
    "    print(f\"Took {end_time-start_time}s for {max_iters} epochs\")\n",
    "\n",
    "    plt.xlabel(\"Epochs\")\n",
    "    plt.ylabel(\"Loss\")\n",
    "    plt.plot(iters,loss_value, color='blue', label=\"Training\")\n",
    "    plt.plot(iters, val_loss_value, \"red\", label = \"validation\")\n",
    "    plt.legend()\n",
    "\n",
    "\n",
    "\n",
    "        \n",
    "\n",
    "\n",
    "\n",
    "\n"
   ]
  },
  {
   "cell_type": "code",
   "execution_count": 8,
   "metadata": {},
   "outputs": [
    {
     "name": "stdout",
     "output_type": "stream",
     "text": [
      "Non zero entries tensor(4.4314)\n"
     ]
    }
   ],
   "source": [
    "\n",
    "\n",
    "_, _, hidden = model(training_dataset)\n",
    "print(\"Non zero entries\",(hidden>0).sum(-1).float().mean())\n"
   ]
  },
  {
   "cell_type": "code",
   "execution_count": 9,
   "metadata": {},
   "outputs": [
    {
     "name": "stdout",
     "output_type": "stream",
     "text": [
      "tensor([     0,      0,      0,      0,      0,      0, 135285,      0,      0,\n",
      "             0,      0,      0, 124717,      0,      0,  38441, 136386,      0,\n",
      "             0,      0,      0,      0,      0,      0,      0,      0,      0,\n",
      "             0,      0,      0,      0,      0,      0, 114318,   4541,      2,\n",
      "             1,      2, 144456,      0,      0,      0,      0,      0,      3,\n",
      "             0,      0,      0,  27889,      0])\n",
      "torch.Size([163840, 50])\n",
      "tensor(0.1854, grad_fn=<MaxBackward1>)\n"
     ]
    }
   ],
   "source": [
    "print((hidden>0).sum(0))\n",
    "print(hidden.shape)\n",
    "print(hidden.max())"
   ]
  },
  {
   "cell_type": "code",
   "execution_count": 14,
   "metadata": {},
   "outputs": [
    {
     "name": "stdout",
     "output_type": "stream",
     "text": [
      "SuperpositionModel(\n",
      "  (encoder): Linear(in_features=5, out_features=5, bias=False)\n",
      "  (decoder): Linear(in_features=5, out_features=5, bias=True)\n",
      "  (relu): ReLU()\n",
      ")\n",
      "torch.Size([327680, 5])\n"
     ]
    }
   ],
   "source": [
    "sp = SuperpositionModel()\n",
    "PATH = \"models/superpositon.pt\"\n",
    "sp.load_state_dict(torch.load(PATH))\n",
    "print(sp.eval())\n",
    "original_data  = torch.load(\"data/original.pt\")\n",
    "print(original_data.shape)"
   ]
  },
  {
   "cell_type": "code",
   "execution_count": 15,
   "metadata": {},
   "outputs": [
    {
     "name": "stdout",
     "output_type": "stream",
     "text": [
      "torch.Size([327680, 5]) tensor(7.3472e-09, grad_fn=<MeanBackward0>) torch.Size([327680, 50]) torch.Size([327680, 5])\n"
     ]
    }
   ],
   "source": [
    "logits, loss, hidden = sp(original_data, original_data)\n",
    "_,_, latents = model(hidden)\n",
    "print(hidden.shape, loss, latents.shape, original_data.shape)"
   ]
  },
  {
   "cell_type": "code",
   "execution_count": 16,
   "metadata": {},
   "outputs": [
    {
     "name": "stdout",
     "output_type": "stream",
     "text": [
      "tensor([     0,      0,      0,      0,      0,      0, 270610,      0,      0,\n",
      "             0,      0,      0, 249389,      0,      0,  76925, 272740,      0,\n",
      "             0,      0,      0,      0,      0,      0,      0,      0,      0,\n",
      "             0,      0,      0,      0,      0,      0, 228564,   9088,      2,\n",
      "             1,      4, 288889,      0,      0,      0,      0,      0,      5,\n",
      "             0,      0,      0,  55729,      0])\n"
     ]
    }
   ],
   "source": [
    "freqs = (latents>0).sum(0)\n",
    "print(freqs)"
   ]
  },
  {
   "cell_type": "code",
   "execution_count": 17,
   "metadata": {},
   "outputs": [
    {
     "name": "stdout",
     "output_type": "stream",
     "text": [
      "6 7.189707051935557e-09 270610\n",
      "12 7.230460230545077e-09 249389\n",
      "15 8.164324327708528e-09 76925\n",
      "16 7.097151311086236e-09 272740\n",
      "33 7.243143862467605e-09 228564\n",
      "34 1.0882441614512572e-08 9088\n",
      "35 nan 2\n",
      "36 nan 1\n",
      "37 nan 4\n",
      "38 7.114191014068183e-09 288889\n",
      "44 nan 5\n",
      "48 8.438784782072162e-09 55729\n"
     ]
    }
   ],
   "source": [
    "for i in range(50):\n",
    "   indices = latents[:, i] > 0.01\n",
    "   x =  original_data[indices]\n",
    "   _, loss, _ = sp(x, x)\n",
    "   if freqs[i] and loss.item():\n",
    "      print(i, loss.item(), freqs[i].item())\n",
    "\n",
    "   "
   ]
  },
  {
   "cell_type": "code",
   "execution_count": 18,
   "metadata": {},
   "outputs": [
    {
     "name": "stdout",
     "output_type": "stream",
     "text": [
      "0 7.3202857109322395e-09 327680\n",
      "1 7.319266082106424e-09 327680\n",
      "2 7.319021833041006e-09 327680\n",
      "3 7.318897932151458e-09 327680\n",
      "4 7.319730599419927e-09 327680\n"
     ]
    },
    {
     "ename": "IndexError",
     "evalue": "index 5 is out of bounds for dimension 1 with size 5",
     "output_type": "error",
     "traceback": [
      "\u001b[0;31m---------------------------------------------------------------------------\u001b[0m",
      "\u001b[0;31mIndexError\u001b[0m                                Traceback (most recent call last)",
      "Cell \u001b[0;32mIn[18], line 2\u001b[0m\n\u001b[1;32m      1\u001b[0m \u001b[38;5;28;01mfor\u001b[39;00m i \u001b[38;5;129;01min\u001b[39;00m \u001b[38;5;28mrange\u001b[39m(\u001b[38;5;241m20\u001b[39m):\n\u001b[0;32m----> 2\u001b[0m    indices \u001b[38;5;241m=\u001b[39m \u001b[43moriginal_data\u001b[49m\u001b[43m[\u001b[49m\u001b[43m:\u001b[49m\u001b[43m,\u001b[49m\u001b[43m \u001b[49m\u001b[43mi\u001b[49m\u001b[43m]\u001b[49m \u001b[38;5;241m>\u001b[39m \u001b[38;5;241m0\u001b[39m\n\u001b[1;32m      3\u001b[0m    x \u001b[38;5;241m=\u001b[39m  original_data[indices]\n\u001b[1;32m      4\u001b[0m    _, loss, _ \u001b[38;5;241m=\u001b[39m sp(x, x)\n",
      "\u001b[0;31mIndexError\u001b[0m: index 5 is out of bounds for dimension 1 with size 5"
     ]
    }
   ],
   "source": [
    "for i in range(20):\n",
    "   indices = original_data[:, i] > 0\n",
    "   x =  original_data[indices]\n",
    "   _, loss, _ = sp(x, x)\n",
    "   if loss.item():\n",
    "      print(i, loss.item(), indices.shape[0])\n"
   ]
  },
  {
   "cell_type": "code",
   "execution_count": 19,
   "metadata": {},
   "outputs": [
    {
     "name": "stdout",
     "output_type": "stream",
     "text": [
      "reconstructed loss 0.11458352953195572, original 7.347201069762832e-09. Percentage 93.06351470947266%\n"
     ]
    }
   ],
   "source": [
    "\n",
    "\n",
    "\n",
    "get_reconstructed_loss(sp, model, original_data)"
   ]
  },
  {
   "cell_type": "code",
   "execution_count": 20,
   "metadata": {},
   "outputs": [
    {
     "name": "stdout",
     "output_type": "stream",
     "text": [
      "tensor([0.4581, 0.4829, 0.3125, 0.0000, 0.2139])\n"
     ]
    }
   ],
   "source": [
    "point = original_data[0]\n",
    "print(point)"
   ]
  },
  {
   "cell_type": "code",
   "execution_count": 21,
   "metadata": {},
   "outputs": [
    {
     "data": {
      "text/plain": [
       "(tensor([4.5809e-01, 4.8286e-01, 3.1255e-01, 1.4607e-04, 2.1403e-01],\n",
       "        grad_fn=<ReluBackward0>),\n",
       " tensor(6.2588e-09, grad_fn=<MeanBackward0>),\n",
       " tensor([-0.3117, -0.2383,  0.3822, -0.5265, -0.0953],\n",
       "        grad_fn=<SqueezeBackward4>))"
      ]
     },
     "execution_count": 21,
     "metadata": {},
     "output_type": "execute_result"
    }
   ],
   "source": [
    "sp(point, point)"
   ]
  },
  {
   "cell_type": "code",
   "execution_count": 22,
   "metadata": {},
   "outputs": [
    {
     "data": {
      "text/plain": [
       "(tensor([0.2066, 0.0670, 0.0000, 0.0000, 0.0000], grad_fn=<ReluBackward0>),\n",
       " tensor(0.0759, grad_fn=<MeanBackward0>),\n",
       " tensor([-0.4751, -0.0215, -0.0399,  0.0971,  0.0534], grad_fn=<ViewBackward0>))"
      ]
     },
     "execution_count": 22,
     "metadata": {},
     "output_type": "execute_result"
    }
   ],
   "source": [
    "sp(point, point, sae = model)"
   ]
  },
  {
   "cell_type": "code",
   "execution_count": null,
   "metadata": {},
   "outputs": [],
   "source": []
  },
  {
   "cell_type": "code",
   "execution_count": null,
   "metadata": {},
   "outputs": [],
   "source": []
  },
  {
   "cell_type": "code",
   "execution_count": null,
   "metadata": {},
   "outputs": [],
   "source": []
  },
  {
   "cell_type": "code",
   "execution_count": null,
   "metadata": {},
   "outputs": [],
   "source": []
  },
  {
   "cell_type": "code",
   "execution_count": null,
   "metadata": {},
   "outputs": [],
   "source": []
  }
 ],
 "metadata": {
  "kernelspec": {
   "display_name": "interp",
   "language": "python",
   "name": "python3"
  },
  "language_info": {
   "codemirror_mode": {
    "name": "ipython",
    "version": 3
   },
   "file_extension": ".py",
   "mimetype": "text/x-python",
   "name": "python",
   "nbconvert_exporter": "python",
   "pygments_lexer": "ipython3",
   "version": "3.11.7"
  }
 },
 "nbformat": 4,
 "nbformat_minor": 2
}
