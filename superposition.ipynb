{
 "cells": [
  {
   "cell_type": "code",
   "execution_count": 1,
   "metadata": {},
   "outputs": [
    {
     "name": "stderr",
     "output_type": "stream",
     "text": [
      "/Users/pavan/miniconda3/envs/interp/lib/python3.11/site-packages/tqdm/auto.py:21: TqdmWarning: IProgress not found. Please update jupyter and ipywidgets. See https://ipywidgets.readthedocs.io/en/stable/user_install.html\n",
      "  from .autonotebook import tqdm as notebook_tqdm\n",
      "/Users/pavan/miniconda3/envs/interp/lib/python3.11/site-packages/bitsandbytes/cextension.py:34: UserWarning: The installed version of bitsandbytes was compiled without GPU support. 8-bit optimizers, 8-bit multiplication, and GPU quantization are unavailable.\n",
      "  warn(\"The installed version of bitsandbytes was compiled without GPU support. \"\n"
     ]
    },
    {
     "name": "stdout",
     "output_type": "stream",
     "text": [
      "'NoneType' object has no attribute 'cadam32bit_grad_fp32'\n",
      "Disabled automatic differentiation\n"
     ]
    },
    {
     "ename": "RuntimeError",
     "evalue": "element 0 of tensors does not require grad and does not have a grad_fn",
     "output_type": "error",
     "traceback": [
      "\u001b[0;31m---------------------------------------------------------------------------\u001b[0m",
      "\u001b[0;31mRuntimeError\u001b[0m                              Traceback (most recent call last)",
      "Cell \u001b[0;32mIn[1], line 110\u001b[0m\n\u001b[1;32m    108\u001b[0m     optimizer\u001b[38;5;241m.\u001b[39mzero_grad(set_to_none\u001b[38;5;241m=\u001b[39m\u001b[38;5;28;01mTrue\u001b[39;00m)\n\u001b[1;32m    109\u001b[0m     \u001b[38;5;66;03m#loss+= get_l1_penalty()\u001b[39;00m\n\u001b[0;32m--> 110\u001b[0m     \u001b[43mloss\u001b[49m\u001b[38;5;241;43m.\u001b[39;49m\u001b[43mbackward\u001b[49m\u001b[43m(\u001b[49m\u001b[43m)\u001b[49m\n\u001b[1;32m    111\u001b[0m     optimizer\u001b[38;5;241m.\u001b[39mstep()\n\u001b[1;32m    114\u001b[0m end_time \u001b[38;5;241m=\u001b[39m time\u001b[38;5;241m.\u001b[39mtime()\n",
      "File \u001b[0;32m~/miniconda3/envs/interp/lib/python3.11/site-packages/torch/_tensor.py:492\u001b[0m, in \u001b[0;36mTensor.backward\u001b[0;34m(self, gradient, retain_graph, create_graph, inputs)\u001b[0m\n\u001b[1;32m    482\u001b[0m \u001b[38;5;28;01mif\u001b[39;00m has_torch_function_unary(\u001b[38;5;28mself\u001b[39m):\n\u001b[1;32m    483\u001b[0m     \u001b[38;5;28;01mreturn\u001b[39;00m handle_torch_function(\n\u001b[1;32m    484\u001b[0m         Tensor\u001b[38;5;241m.\u001b[39mbackward,\n\u001b[1;32m    485\u001b[0m         (\u001b[38;5;28mself\u001b[39m,),\n\u001b[0;32m   (...)\u001b[0m\n\u001b[1;32m    490\u001b[0m         inputs\u001b[38;5;241m=\u001b[39minputs,\n\u001b[1;32m    491\u001b[0m     )\n\u001b[0;32m--> 492\u001b[0m \u001b[43mtorch\u001b[49m\u001b[38;5;241;43m.\u001b[39;49m\u001b[43mautograd\u001b[49m\u001b[38;5;241;43m.\u001b[39;49m\u001b[43mbackward\u001b[49m\u001b[43m(\u001b[49m\n\u001b[1;32m    493\u001b[0m \u001b[43m    \u001b[49m\u001b[38;5;28;43mself\u001b[39;49m\u001b[43m,\u001b[49m\u001b[43m \u001b[49m\u001b[43mgradient\u001b[49m\u001b[43m,\u001b[49m\u001b[43m \u001b[49m\u001b[43mretain_graph\u001b[49m\u001b[43m,\u001b[49m\u001b[43m \u001b[49m\u001b[43mcreate_graph\u001b[49m\u001b[43m,\u001b[49m\u001b[43m \u001b[49m\u001b[43minputs\u001b[49m\u001b[38;5;241;43m=\u001b[39;49m\u001b[43minputs\u001b[49m\n\u001b[1;32m    494\u001b[0m \u001b[43m\u001b[49m\u001b[43m)\u001b[49m\n",
      "File \u001b[0;32m~/miniconda3/envs/interp/lib/python3.11/site-packages/torch/autograd/__init__.py:251\u001b[0m, in \u001b[0;36mbackward\u001b[0;34m(tensors, grad_tensors, retain_graph, create_graph, grad_variables, inputs)\u001b[0m\n\u001b[1;32m    246\u001b[0m     retain_graph \u001b[38;5;241m=\u001b[39m create_graph\n\u001b[1;32m    248\u001b[0m \u001b[38;5;66;03m# The reason we repeat the same comment below is that\u001b[39;00m\n\u001b[1;32m    249\u001b[0m \u001b[38;5;66;03m# some Python versions print out the first line of a multi-line function\u001b[39;00m\n\u001b[1;32m    250\u001b[0m \u001b[38;5;66;03m# calls in the traceback and some print out the last line\u001b[39;00m\n\u001b[0;32m--> 251\u001b[0m \u001b[43mVariable\u001b[49m\u001b[38;5;241;43m.\u001b[39;49m\u001b[43m_execution_engine\u001b[49m\u001b[38;5;241;43m.\u001b[39;49m\u001b[43mrun_backward\u001b[49m\u001b[43m(\u001b[49m\u001b[43m  \u001b[49m\u001b[38;5;66;43;03m# Calls into the C++ engine to run the backward pass\u001b[39;49;00m\n\u001b[1;32m    252\u001b[0m \u001b[43m    \u001b[49m\u001b[43mtensors\u001b[49m\u001b[43m,\u001b[49m\n\u001b[1;32m    253\u001b[0m \u001b[43m    \u001b[49m\u001b[43mgrad_tensors_\u001b[49m\u001b[43m,\u001b[49m\n\u001b[1;32m    254\u001b[0m \u001b[43m    \u001b[49m\u001b[43mretain_graph\u001b[49m\u001b[43m,\u001b[49m\n\u001b[1;32m    255\u001b[0m \u001b[43m    \u001b[49m\u001b[43mcreate_graph\u001b[49m\u001b[43m,\u001b[49m\n\u001b[1;32m    256\u001b[0m \u001b[43m    \u001b[49m\u001b[43minputs\u001b[49m\u001b[43m,\u001b[49m\n\u001b[1;32m    257\u001b[0m \u001b[43m    \u001b[49m\u001b[43mallow_unreachable\u001b[49m\u001b[38;5;241;43m=\u001b[39;49m\u001b[38;5;28;43;01mTrue\u001b[39;49;00m\u001b[43m,\u001b[49m\n\u001b[1;32m    258\u001b[0m \u001b[43m    \u001b[49m\u001b[43maccumulate_grad\u001b[49m\u001b[38;5;241;43m=\u001b[39;49m\u001b[38;5;28;43;01mTrue\u001b[39;49;00m\u001b[43m,\u001b[49m\n\u001b[1;32m    259\u001b[0m \u001b[43m\u001b[49m\u001b[43m)\u001b[49m\n",
      "\u001b[0;31mRuntimeError\u001b[0m: element 0 of tensors does not require grad and does not have a grad_fn"
     ]
    }
   ],
   "source": [
    "import torch\n",
    "import torch.nn as nn\n",
    "import torch.nn.functional as F\n",
    "import random\n",
    "import matplotlib.pyplot as plt\n",
    "import time\n",
    "import numpy as np\n",
    "import plotly.express as px\n",
    "from utils import *\n",
    "\n",
    "torch.manual_seed(10)\n",
    "\n",
    "\n",
    "def visualise_tensor(data):\n",
    "    data = data.detach().numpy()\n",
    "\n",
    "    colormap = 'RdBu_r'\n",
    "    fig = px.imshow(data, color_continuous_scale=colormap, zmin=-1, zmax=1)\n",
    "    fig.show()\n",
    "    fig.data = ()\n",
    "\n",
    "weight_penalty_coefficient = 0.01\n",
    "\n",
    "input_size = 20\n",
    "hidden_layer_size= 5\n",
    "output_size = input_size\n",
    "learning_rate = 0.01\n",
    "max_iters = 1000\n",
    "dataset_size = 1024*32\n",
    "sparsity = 0.1\n",
    "batch_size = 32\n",
    "\n",
    "decay_factor = 0.95\n",
    "iters = []\n",
    "loss_value = []\n",
    "val_loss_value = []\n",
    "\n",
    "imp_vector =torch.tensor([0.9**i for i in range(input_size)])\n",
    "#imp_vector = torch.rand(input_size)\n",
    "\n",
    "\n",
    "def sample_data(split = 'train'):\n",
    "    if split != 'train':\n",
    "        curr_data = validation_dataset\n",
    "    else:\n",
    "        curr_data = training_dataset\n",
    "    sparsity_vector = sparsity\n",
    "    a, b = curr_data.shape\n",
    "    \n",
    "    sparsity_vector = torch.tensor(sparsity_vector, device=curr_data.device)\n",
    "    sparsity_vector = sparsity_vector.view(1, -1)\n",
    "    sparsity_mat = torch.bernoulli(torch.full((a, b), 1.0) * sparsity_vector)\n",
    "    \n",
    "    X = curr_data * sparsity_mat\n",
    "    return X, X\n",
    "\n",
    "\n",
    "        \n",
    "\n",
    "training_dataset = torch.rand(dataset_size, input_size)\n",
    "validation_dataset = torch.rand(int(dataset_size/2), input_size)\n",
    "output = input\n",
    "\n",
    "\n",
    "model = SuperpositionModel(SuperPositionConfig(input_size, hidden_layer_size, imp_vector))\n",
    "\n",
    "LOAD_MODEL = False\n",
    "PATH = \"models/basic_linear_0.99.bin\"\n",
    "if LOAD_MODEL:\n",
    "    model = SuperpositionModel(SuperPositionConfig())\n",
    "    model.load_state_dict(torch.load(PATH))\n",
    "    model.eval()\n",
    "else:\n",
    "    optimizer = torch.optim.Adam(model.parameters() , learning_rate, weight_decay= 1e-5)\n",
    "    start_time = time.time()\n",
    "    step_value = max_iters/20\n",
    "    for i in range(1, max_iters):\n",
    "        X, Y = sample_data()\n",
    "        logits, loss, _ = model(X, Y)\n",
    "    \n",
    "        if i%step_value ==0 :\n",
    "            model.eval()\n",
    "            with torch.no_grad():\n",
    "                X_V,Y_V = sample_data(split = 'val')\n",
    "                _, val_loss, _ = model(X_V, Y_V)\n",
    "                iters.append(i)\n",
    "                loss_value.append(loss.item())\n",
    "                val_loss_value.append(val_loss.item())\n",
    "                print(f\"iter:{i} training loss: {loss.item()}, val loss: {val_loss.item()}\")\n",
    "            model.train()\n",
    "\n",
    "        optimizer.zero_grad(set_to_none=True)\n",
    "        #loss+= get_l1_penalty()\n",
    "        loss.backward()\n",
    "        optimizer.step()\n",
    "\n",
    "\n",
    "    end_time = time.time()\n",
    "    print(f\"Took {end_time-start_time}s for {max_iters} epochs\")\n",
    "\n",
    "    plt.xlabel(\"Epochs\")\n",
    "    plt.ylabel(\"Loss\")\n",
    "    plt.plot(iters,loss_value, color='blue', label=\"Training\")\n",
    "    plt.plot(iters, val_loss_value, \"red\", label = \"validation\")\n",
    "    plt.legend()\n",
    "    plt.show()"
   ]
  },
  {
   "cell_type": "code",
   "execution_count": 17,
   "metadata": {},
   "outputs": [
    {
     "ename": "NameError",
     "evalue": "name 'imshow' is not defined",
     "output_type": "error",
     "traceback": [
      "\u001b[0;31m---------------------------------------------------------------------------\u001b[0m",
      "\u001b[0;31mNameError\u001b[0m                                 Traceback (most recent call last)",
      "Cell \u001b[0;32mIn[17], line 7\u001b[0m\n\u001b[1;32m      4\u001b[0m \u001b[38;5;66;03m# visualise_tensor(encoder_w.t())\u001b[39;00m\n\u001b[1;32m      5\u001b[0m \u001b[38;5;66;03m# visualise_tensor(decoder_w.t())\u001b[39;00m\n\u001b[1;32m      6\u001b[0m \u001b[38;5;28;01mfrom\u001b[39;00m \u001b[38;5;21;01mutils\u001b[39;00m \u001b[38;5;28;01mimport\u001b[39;00m \u001b[38;5;241m*\u001b[39m\n\u001b[0;32m----> 7\u001b[0m \u001b[43mimshow\u001b[49m(decoder_w\u001b[38;5;129m@encoder_w\u001b[39m)\n\u001b[1;32m      8\u001b[0m \u001b[38;5;66;03m# visualise_tensor(model.decoder.bias.data.reshape(-1,1))\u001b[39;00m\n",
      "\u001b[0;31mNameError\u001b[0m: name 'imshow' is not defined"
     ]
    }
   ],
   "source": [
    "encoder_w = model.encoder.weight.data\n",
    "decoder_w = model.decoder.weight.data\n",
    "\n",
    "# visualise_tensor(encoder_w.t())\n",
    "# visualise_tensor(decoder_w.t())\n",
    "from utils import *\n",
    "imshow(decoder_w@encoder_w)\n",
    "# visualise_tensor(model.decoder.bias.data.reshape(-1,1))"
   ]
  },
  {
   "cell_type": "code",
   "execution_count": 7,
   "metadata": {},
   "outputs": [],
   "source": [
    "x,y = sample_data()"
   ]
  },
  {
   "cell_type": "code",
   "execution_count": 15,
   "metadata": {},
   "outputs": [],
   "source": [
    "data = torch.tensor([])\n",
    "original = torch.tensor([])\n",
    "for i in range(10):\n",
    "    x,y = sample_data()\n",
    "    original = torch.cat((original, x))\n",
    "    _,_,hidden = model(x,x)\n",
    "    data = torch.cat((data,hidden))\n",
    "    \n",
    "\n",
    "torch.save(data, \"data/hidden.pt\")\n",
    "torch.save(original, \"data/original.pt\")\n",
    "PATH = \"models/superpositon.pt\"\n",
    "\n",
    "torch.save(model.state_dict(), PATH)\n",
    "\n"
   ]
  },
  {
   "cell_type": "code",
   "execution_count": 39,
   "metadata": {},
   "outputs": [],
   "source": [
    "LOAD_MODEL = False\n"
   ]
  },
  {
   "cell_type": "code",
   "execution_count": 8,
   "metadata": {},
   "outputs": [],
   "source": [
    "model = SuperpositionModel(SuperPositionConfig(input_size, hidden_layer_size, imp_vector))"
   ]
  },
  {
   "cell_type": "code",
   "execution_count": 10,
   "metadata": {},
   "outputs": [],
   "source": [
    "a, b, c = model(X,X)"
   ]
  },
  {
   "cell_type": "code",
   "execution_count": 12,
   "metadata": {},
   "outputs": [
    {
     "data": {
      "text/plain": [
       "torch.Size([])"
      ]
     },
     "execution_count": 12,
     "metadata": {},
     "output_type": "execute_result"
    }
   ],
   "source": [
    "b.shape"
   ]
  },
  {
   "cell_type": "code",
   "execution_count": 20,
   "metadata": {},
   "outputs": [
    {
     "data": {
      "text/plain": [
       "torch.Size([65536, 20])"
      ]
     },
     "execution_count": 20,
     "metadata": {},
     "output_type": "execute_result"
    }
   ],
   "source": [
    "a.shape"
   ]
  },
  {
   "cell_type": "code",
   "execution_count": 9,
   "metadata": {},
   "outputs": [
    {
     "data": {
      "text/plain": [
       "tensor([0.6576, 0.5636, 0.9348, 0.4211, 0.1432, 0.0944, 0.8426, 0.0601, 0.8363,\n",
       "        0.3298])"
      ]
     },
     "execution_count": 9,
     "metadata": {},
     "output_type": "execute_result"
    }
   ],
   "source": [
    "torch.rand(10)"
   ]
  },
  {
   "cell_type": "code",
   "execution_count": null,
   "metadata": {},
   "outputs": [],
   "source": []
  }
 ],
 "metadata": {
  "kernelspec": {
   "display_name": "Python 3",
   "language": "python",
   "name": "python3"
  },
  "language_info": {
   "codemirror_mode": {
    "name": "ipython",
    "version": 3
   },
   "file_extension": ".py",
   "mimetype": "text/x-python",
   "name": "python",
   "nbconvert_exporter": "python",
   "pygments_lexer": "ipython3",
   "version": "3.11.7"
  },
  "orig_nbformat": 4
 },
 "nbformat": 4,
 "nbformat_minor": 2
}
