{
 "cells": [
  {
   "cell_type": "code",
   "execution_count": 1,
   "metadata": {},
   "outputs": [
    {
     "name": "stderr",
     "output_type": "stream",
     "text": [
      "/Users/pavan/miniconda3/envs/interp/lib/python3.11/site-packages/tqdm/auto.py:21: TqdmWarning: IProgress not found. Please update jupyter and ipywidgets. See https://ipywidgets.readthedocs.io/en/stable/user_install.html\n",
      "  from .autonotebook import tqdm as notebook_tqdm\n"
     ]
    },
    {
     "name": "stdout",
     "output_type": "stream",
     "text": [
      "iter:50 training loss: 0.00133712578099221, val loss: 0.001356472261250019\n",
      "iter:100 training loss: 0.0008322427747771144, val loss: 0.0008450986933894455\n",
      "iter:150 training loss: 0.000608776812441647, val loss: 0.0006491068634204566\n",
      "iter:200 training loss: 0.0005023066769354045, val loss: 0.0004896506434306502\n",
      "iter:250 training loss: 0.0004900259082205594, val loss: 0.0004980635130777955\n",
      "iter:300 training loss: 0.0004942248924635351, val loss: 0.000509710400365293\n",
      "iter:350 training loss: 0.0005016594077460468, val loss: 0.0005047079175710678\n",
      "iter:400 training loss: 0.000478345958981663, val loss: 0.00047054007882252336\n",
      "iter:450 training loss: 0.00047211727360263467, val loss: 0.0005305857048369944\n",
      "iter:500 training loss: 0.0004934493917971849, val loss: 0.0005115815438330173\n",
      "iter:550 training loss: 0.0004756269045174122, val loss: 0.000508079887367785\n",
      "iter:600 training loss: 0.00046757905511185527, val loss: 0.0004914346500299871\n",
      "iter:650 training loss: 0.000489627243950963, val loss: 0.000488999648950994\n",
      "iter:700 training loss: 0.0004638205864466727, val loss: 0.00048551420331932604\n",
      "iter:750 training loss: 0.0005162687739357352, val loss: 0.0004754260298795998\n",
      "iter:800 training loss: 0.000495104759465903, val loss: 0.0005015138303861022\n",
      "iter:850 training loss: 0.0004980722442269325, val loss: 0.0005244964268058538\n",
      "iter:900 training loss: 0.00046812137588858604, val loss: 0.00047794022248126566\n",
      "iter:950 training loss: 0.0004907670663669705, val loss: 0.0004885514499619603\n",
      "Took 7.479459762573242s for 1000 epochs\n"
     ]
    },
    {
     "data": {
      "image/png": "[encoded data removed]",
      "text/plain": [
       "<Figure size 640x480 with 1 Axes>"
      ]
     },
     "metadata": {},
     "output_type": "display_data"
    }
   ],
   "source": [
    "import torch\n",
    "import torch.nn as nn\n",
    "import torch.nn.functional as F\n",
    "import random\n",
    "import matplotlib.pyplot as plt\n",
    "import time\n",
    "import numpy as np\n",
    "import plotly.express as px\n",
    "from utils import *\n",
    "\n",
    "\n",
    "def visualise_tensor(data):\n",
    "    data = data.detach().numpy()\n",
    "\n",
    "    colormap = 'RdBu_r'\n",
    "    fig = px.imshow(data, color_continuous_scale=colormap, zmin=-1, zmax=1)\n",
    "    fig.show()\n",
    "    fig.data = ()\n",
    "\n",
    "weight_penalty_coefficient = 0.01\n",
    "\n",
    "input_size = 20\n",
    "hidden_layer_size= 5\n",
    "output_size = input_size\n",
    "learning_rate = 0.01\n",
    "max_iters = 1000\n",
    "dataset_size = 1024*32\n",
    "sparsity = 0.1\n",
    "batch_size = 32\n",
    "\n",
    "decay_factor = 0.95\n",
    "iters = []\n",
    "loss_value = []\n",
    "val_loss_value = []\n",
    "\n",
    "imp_vector =torch.tensor([0.7**i for i in range(input_size)])\n",
    "\n",
    "\n",
    "def sample_data():\n",
    "    sparsity_vector = sparsity\n",
    "    a, b = training_dataset.shape\n",
    "    \n",
    "    # Make sure sparsity_vector is a tensor and has the same device as training_dataset\n",
    "    sparsity_vector = torch.tensor(sparsity_vector, device=training_dataset.device)\n",
    "    \n",
    "    # Reshape the sparsity vector to be broadcastable over the features dimension\n",
    "    sparsity_vector = sparsity_vector.view(1, -1)\n",
    "    \n",
    "    # Create a sparsity matrix where each feature column has its corresponding sparsity\n",
    "    sparsity_mat = torch.bernoulli(torch.full((a, b), 1.0) * sparsity_vector)\n",
    "    \n",
    "    X = training_dataset * sparsity_mat\n",
    "    return X, X\n",
    "\n",
    "def sample_validation_data():\n",
    "    sparsity_vector = sparsity\n",
    "    a, b = validation_dataset.shape\n",
    "    \n",
    "    # Make sure sparsity_vector is a tensor and has the same device as training_dataset\n",
    "    sparsity_vector = torch.tensor(sparsity_vector, device=training_dataset.device)\n",
    "    \n",
    "    # Reshape the sparsity vector to be broadcastable over the features dimension\n",
    "    sparsity_vector = sparsity_vector.view(1, -1)\n",
    "    \n",
    "    # Create a sparsity matrix where each feature column has its corresponding sparsity\n",
    "    sparsity_mat = torch.bernoulli(torch.full((a, b), 1.0) * sparsity_vector)\n",
    "    \n",
    "    X = validation_dataset * sparsity_mat\n",
    "    return X, X\n",
    "\n",
    "        \n",
    "\n",
    "training_dataset = torch.rand(dataset_size, input_size)\n",
    "validation_dataset = torch.rand(int(dataset_size/2), input_size)\n",
    "output = input\n",
    "\n",
    "\n",
    "model = SuperpositionModel(SuperPositionConfig(input_size, hidden_layer_size, imp_vector))\n",
    "\n",
    "LOAD_MODEL = False\n",
    "PATH = \"models/basic_linear_0.99.bin\"\n",
    "if LOAD_MODEL:\n",
    "    model = SuperpositionModel(SuperPositionConfig())\n",
    "    model.load_state_dict(torch.load(PATH))\n",
    "    model.eval()\n",
    "else:\n",
    "    optimizer = torch.optim.Adam(model.parameters() , learning_rate, weight_decay= 1e-5)\n",
    "    start_time = time.time()\n",
    "    step_value = max_iters/20\n",
    "    for i in range(1, max_iters):\n",
    "        X, Y = sample_data()\n",
    "        logits, loss, _ = model(X, Y)\n",
    "    \n",
    "        if i%step_value ==0 :\n",
    "            model.eval()\n",
    "            with torch.no_grad():\n",
    "                X_V,Y_V = sample_validation_data()\n",
    "                _, val_loss, _ = model(X_V, Y_V)\n",
    "                iters.append(i)\n",
    "                loss_value.append(loss.item())\n",
    "                val_loss_value.append(val_loss.item())\n",
    "                print(f\"iter:{i} training loss: {loss.item()}, val loss: {val_loss.item()}\")\n",
    "            model.train()\n",
    "\n",
    "        optimizer.zero_grad(set_to_none=True)\n",
    "        #loss+= get_l1_penalty()\n",
    "        loss.backward()\n",
    "        optimizer.step()\n",
    "\n",
    "\n",
    "    end_time = time.time()\n",
    "    print(f\"Took {end_time-start_time}s for {max_iters} epochs\")\n",
    "\n",
    "    plt.xlabel(\"Epochs\")\n",
    "    plt.ylabel(\"Loss\")\n",
    "    plt.plot(iters,loss_value, color='blue', label=\"Training\")\n",
    "    plt.plot(iters, val_loss_value, \"red\", label = \"validation\")\n",
    "    plt.legend()\n",
    "    plt.show()"
   ]
  },
  {
   "cell_type": "code",
   "execution_count": 2,
   "metadata": {},
   "outputs": [
    {
     "data": {
      "application/vnd.plotly.v1+json": {
       "config": {
        "plotlyServerURL": "https://plot.ly"
       },
       "data": [
        {
         "coloraxis": "coloraxis",
         "hovertemplate": "x: %{x}<br>y: %{y}<br>color: %{z}<extra></extra>",
         "name": "0",
         "type": "heatmap",
         "xaxis": "x",
         "yaxis": "y",
         "z": [
          [
           0.6639894247055054,
           0.5016942620277405,
           -0.01665414683520794,
           -0.45590388774871826,
           -0.3517487645149231
          ],
          [
           -0.658880889415741,
           -0.49164217710494995,
           0.01820785365998745,
           0.44980570673942566,
           0.3472239375114441
          ],
          [
           0.10577759146690369,
           -0.016293631866574287,
           1.0027709007263184,
           0.07202839851379395,
           0.033943213522434235
          ],
          [
           0.2736142575740814,
           -0.7592775821685791,
           -0.02238071896135807,
           0.03415163233876228,
           -0.6027547717094421
          ],
          [
           -0.42595240473747253,
           -0.21381908655166626,
           0.10546018928289413,
           -0.8783968687057495,
           0.022064967080950737
          ],
          [
           -0.2717355787754059,
           0.7449137568473816,
           0.021611986681818962,
           -0.033425915986299515,
           0.5918522477149963
          ],
          [
           -0.5472595691680908,
           0.377960741519928,
           0.07692838460206985,
           0.16541866958141327,
           -0.7216426134109497
          ],
          [
           -0.004338430240750313,
           0.009121636860072613,
           -0.000903635285794735,
           0.001661572023294866,
           0.004612637683749199
          ],
          [
           0.5338208675384521,
           -0.3673848807811737,
           -0.0779738798737526,
           -0.1618853211402893,
           0.6993551850318909
          ],
          [
           0.40668976306915283,
           0.2013496309518814,
           -0.09832353889942169,
           0.8358356952667236,
           -0.020767835900187492
          ],
          [
           -0.09546158462762833,
           0.015111272223293781,
           -0.9176929593086243,
           -0.06671631336212158,
           -0.0324285626411438
          ],
          [
           -0.0009819449624046683,
           -0.0028411231469362974,
           0.0011924055870622396,
           -0.0011457207147032022,
           -0.0016208549495786428
          ],
          [
           -0.0012758849188685417,
           0.0013414626009762287,
           0.0013920614728704095,
           -0.002340554026886821,
           0.0014399675419554114
          ],
          [
           0.0012910993536934257,
           -0.0011504489229992032,
           0.00383161217905581,
           -0.001967372139915824,
           0.0016241726698353887
          ],
          [
           0.0006527453660964966,
           -0.00027150308596901596,
           -0.002209700411185622,
           -0.005646674893796444,
           0.000925311935134232
          ],
          [
           -0.0011713409330695868,
           -0.006864095572382212,
           -0.001524373423308134,
           -0.0016124083194881678,
           -0.0005935865920037031
          ],
          [
           0.0006149961263872683,
           0.0005271902773529291,
           0.002623347332701087,
           -0.0008964719600044191,
           0.0024161399342119694
          ],
          [
           0.000581522355787456,
           0.00453956937417388,
           -0.00038243067683652043,
           0.003686612006276846,
           0.0030466082971543074
          ],
          [
           0.0020553243812173605,
           -0.0034754211083054543,
           0.0014125569723546505,
           -0.000024066597688943148,
           0.0024765736889094114
          ],
          [
           0.00026634603273123503,
           -0.0005025534774176776,
           -0.0012180926278233528,
           -0.0016157706268131733,
           -0.00035226604086346924
          ]
         ]
        }
       ],
       "layout": {
        "coloraxis": {
         "cmax": 1,
         "cmin": -1,
         "colorscale": [
          [
           0,
           "rgb(5,48,97)"
          ],
          [
           0.1,
           "rgb(33,102,172)"
          ],
          [
           0.2,
           "rgb(67,147,195)"
          ],
          [
           0.3,
           "rgb(146,197,222)"
          ],
          [
           0.4,
           "rgb(209,229,240)"
          ],
          [
           0.5,
           "rgb(247,247,247)"
          ],
          [
           0.6,
           "rgb(253,219,199)"
          ],
          [
           0.7,
           "rgb(244,165,130)"
          ],
          [
           0.8,
           "rgb(214,96,77)"
          ],
          [
           0.9,
           "rgb(178,24,43)"
          ],
          [
           1,
           "rgb(103,0,31)"
          ]
         ]
        },
        "margin": {
         "t": 60
        },
        "template": {
         "data": {
          "bar": [
           {
            "error_x": {
             "color": "#2a3f5f"
            },
            "error_y": {
             "color": "#2a3f5f"
            },
            "marker": {
             "line": {
              "color": "#E5ECF6",
              "width": 0.5
             },
             "pattern": {
              "fillmode": "overlay",
              "size": 10,
              "solidity": 0.2
             }
            },
            "type": "bar"
           }
          ],
          "barpolar": [
           {
            "marker": {
             "line": {
              "color": "#E5ECF6",
              "width": 0.5
             },
             "pattern": {
              "fillmode": "overlay",
              "size": 10,
              "solidity": 0.2
             }
            },
            "type": "barpolar"
           }
          ],
          "carpet": [
           {
            "aaxis": {
             "endlinecolor": "#2a3f5f",
             "gridcolor": "white",
             "linecolor": "white",
             "minorgridcolor": "white",
             "startlinecolor": "#2a3f5f"
            },
            "baxis": {
             "endlinecolor": "#2a3f5f",
             "gridcolor": "white",
             "linecolor": "white",
             "minorgridcolor": "white",
             "startlinecolor": "#2a3f5f"
            },
            "type": "carpet"
           }
          ],
          "choropleth": [
           {
            "colorbar": {
             "outlinewidth": 0,
             "ticks": ""
            },
            "type": "choropleth"
           }
          ],
          "contour": [
           {
            "colorbar": {
             "outlinewidth": 0,
             "ticks": ""
            },
            "colorscale": [
             [
              0,
              "#0d0887"
             ],
             [
              0.1111111111111111,
              "#46039f"
             ],
             [
              0.2222222222222222,
              "#7201a8"
             ],
             [
              0.3333333333333333,
              "#9c179e"
             ],
             [
              0.4444444444444444,
              "#bd3786"
             ],
             [
              0.5555555555555556,
              "#d8576b"
             ],
             [
              0.6666666666666666,
              "#ed7953"
             ],
             [
              0.7777777777777778,
              "#fb9f3a"
             ],
             [
              0.8888888888888888,
              "#fdca26"
             ],
             [
              1,
              "#f0f921"
             ]
            ],
            "type": "contour"
           }
          ],
          "contourcarpet": [
           {
            "colorbar": {
             "outlinewidth": 0,
             "ticks": ""
            },
            "type": "contourcarpet"
           }
          ],
          "heatmap": [
           {
            "colorbar": {
             "outlinewidth": 0,
             "ticks": ""
            },
            "colorscale": [
             [
              0,
              "#0d0887"
             ],
             [
              0.1111111111111111,
              "#46039f"
             ],
             [
              0.2222222222222222,
              "#7201a8"
             ],
             [
              0.3333333333333333,
              "#9c179e"
             ],
             [
              0.4444444444444444,
              "#bd3786"
             ],
             [
              0.5555555555555556,
              "#d8576b"
             ],
             [
              0.6666666666666666,
              "#ed7953"
             ],
             [
              0.7777777777777778,
              "#fb9f3a"
             ],
             [
              0.8888888888888888,
              "#fdca26"
             ],
             [
              1,
              "#f0f921"
             ]
            ],
            "type": "heatmap"
           }
          ],
          "heatmapgl": [
           {
            "colorbar": {
             "outlinewidth": 0,
             "ticks": ""
            },
            "colorscale": [
             [
              0,
              "#0d0887"
             ],
             [
              0.1111111111111111,
              "#46039f"
             ],
             [
              0.2222222222222222,
              "#7201a8"
             ],
             [
              0.3333333333333333,
              "#9c179e"
             ],
             [
              0.4444444444444444,
              "#bd3786"
             ],
             [
              0.5555555555555556,
              "#d8576b"
             ],
             [
              0.6666666666666666,
              "#ed7953"
             ],
             [
              0.7777777777777778,
              "#fb9f3a"
             ],
             [
              0.8888888888888888,
              "#fdca26"
             ],
             [
              1,
              "#f0f921"
             ]
            ],
            "type": "heatmapgl"
           }
          ],
          "histogram": [
           {
            "marker": {
             "pattern": {
              "fillmode": "overlay",
              "size": 10,
              "solidity": 0.2
             }
            },
            "type": "histogram"
           }
          ],
          "histogram2d": [
           {
            "colorbar": {
             "outlinewidth": 0,
             "ticks": ""
            },
            "colorscale": [
             [
              0,
              "#0d0887"
             ],
             [
              0.1111111111111111,
              "#46039f"
             ],
             [
              0.2222222222222222,
              "#7201a8"
             ],
             [
              0.3333333333333333,
              "#9c179e"
             ],
             [
              0.4444444444444444,
              "#bd3786"
             ],
             [
              0.5555555555555556,
              "#d8576b"
             ],
             [
              0.6666666666666666,
              "#ed7953"
             ],
             [
              0.7777777777777778,
              "#fb9f3a"
             ],
             [
              0.8888888888888888,
              "#fdca26"
             ],
             [
              1,
              "#f0f921"
             ]
            ],
            "type": "histogram2d"
           }
          ],
          "histogram2dcontour": [
           {
            "colorbar": {
             "outlinewidth": 0,
             "ticks": ""
            },
            "colorscale": [
             [
              0,
              "#0d0887"
             ],
             [
              0.1111111111111111,
              "#46039f"
             ],
             [
              0.2222222222222222,
              "#7201a8"
             ],
             [
              0.3333333333333333,
              "#9c179e"
             ],
             [
              0.4444444444444444,
              "#bd3786"
             ],
             [
              0.5555555555555556,
              "#d8576b"
             ],
             [
              0.6666666666666666,
              "#ed7953"
             ],
             [
              0.7777777777777778,
              "#fb9f3a"
             ],
             [
              0.8888888888888888,
              "#fdca26"
             ],
             [
              1,
              "#f0f921"
             ]
            ],
            "type": "histogram2dcontour"
           }
          ],
          "mesh3d": [
           {
            "colorbar": {
             "outlinewidth": 0,
             "ticks": ""
            },
            "type": "mesh3d"
           }
          ],
          "parcoords": [
           {
            "line": {
             "colorbar": {
              "outlinewidth": 0,
              "ticks": ""
             }
            },
            "type": "parcoords"
           }
          ],
          "pie": [
           {
            "automargin": true,
            "type": "pie"
           }
          ],
          "scatter": [
           {
            "fillpattern": {
             "fillmode": "overlay",
             "size": 10,
             "solidity": 0.2
            },
            "type": "scatter"
           }
          ],
          "scatter3d": [
           {
            "line": {
             "colorbar": {
              "outlinewidth": 0,
              "ticks": ""
             }
            },
            "marker": {
             "colorbar": {
              "outlinewidth": 0,
              "ticks": ""
             }
            },
            "type": "scatter3d"
           }
          ],
          "scattercarpet": [
           {
            "marker": {
             "colorbar": {
              "outlinewidth": 0,
              "ticks": ""
             }
            },
            "type": "scattercarpet"
           }
          ],
          "scattergeo": [
           {
            "marker": {
             "colorbar": {
              "outlinewidth": 0,
              "ticks": ""
             }
            },
            "type": "scattergeo"
           }
          ],
          "scattergl": [
           {
            "marker": {
             "colorbar": {
              "outlinewidth": 0,
              "ticks": ""
             }
            },
            "type": "scattergl"
           }
          ],
          "scattermapbox": [
           {
            "marker": {
             "colorbar": {
              "outlinewidth": 0,
              "ticks": ""
             }
            },
            "type": "scattermapbox"
           }
          ],
          "scatterpolar": [
           {
            "marker": {
             "colorbar": {
              "outlinewidth": 0,
              "ticks": ""
             }
            },
            "type": "scatterpolar"
           }
          ],
          "scatterpolargl": [
           {
            "marker": {
             "colorbar": {
              "outlinewidth": 0,
              "ticks": ""
             }
            },
            "type": "scatterpolargl"
           }
          ],
          "scatterternary": [
           {
            "marker": {
             "colorbar": {
              "outlinewidth": 0,
              "ticks": ""
             }
            },
            "type": "scatterternary"
           }
          ],
          "surface": [
           {
            "colorbar": {
             "outlinewidth": 0,
             "ticks": ""
            },
            "colorscale": [
             [
              0,
              "#0d0887"
             ],
             [
              0.1111111111111111,
              "#46039f"
             ],
             [
              0.2222222222222222,
              "#7201a8"
             ],
             [
              0.3333333333333333,
              "#9c179e"
             ],
             [
              0.4444444444444444,
              "#bd3786"
             ],
             [
              0.5555555555555556,
              "#d8576b"
             ],
             [
              0.6666666666666666,
              "#ed7953"
             ],
             [
              0.7777777777777778,
              "#fb9f3a"
             ],
             [
              0.8888888888888888,
              "#fdca26"
             ],
             [
              1,
              "#f0f921"
             ]
            ],
            "type": "surface"
           }
          ],
          "table": [
           {
            "cells": {
             "fill": {
              "color": "#EBF0F8"
             },
             "line": {
              "color": "white"
             }
            },
            "header": {
             "fill": {
              "color": "#C8D4E3"
             },
             "line": {
              "color": "white"
             }
            },
            "type": "table"
           }
          ]
         },
         "layout": {
          "annotationdefaults": {
           "arrowcolor": "#2a3f5f",
           "arrowhead": 0,
           "arrowwidth": 1
          },
          "autotypenumbers": "strict",
          "coloraxis": {
           "colorbar": {
            "outlinewidth": 0,
            "ticks": ""
           }
          },
          "colorscale": {
           "diverging": [
            [
             0,
             "#8e0152"
            ],
            [
             0.1,
             "#c51b7d"
            ],
            [
             0.2,
             "#de77ae"
            ],
            [
             0.3,
             "#f1b6da"
            ],
            [
             0.4,
             "#fde0ef"
            ],
            [
             0.5,
             "#f7f7f7"
            ],
            [
             0.6,
             "#e6f5d0"
            ],
            [
             0.7,
             "#b8e186"
            ],
            [
             0.8,
             "#7fbc41"
            ],
            [
             0.9,
             "#4d9221"
            ],
            [
             1,
             "#276419"
            ]
           ],
           "sequential": [
            [
             0,
             "#0d0887"
            ],
            [
             0.1111111111111111,
             "#46039f"
            ],
            [
             0.2222222222222222,
             "#7201a8"
            ],
            [
             0.3333333333333333,
             "#9c179e"
            ],
            [
             0.4444444444444444,
             "#bd3786"
            ],
            [
             0.5555555555555556,
             "#d8576b"
            ],
            [
             0.6666666666666666,
             "#ed7953"
            ],
            [
             0.7777777777777778,
             "#fb9f3a"
            ],
            [
             0.8888888888888888,
             "#fdca26"
            ],
            [
             1,
             "#f0f921"
            ]
           ],
           "sequentialminus": [
            [
             0,
             "#0d0887"
            ],
            [
             0.1111111111111111,
             "#46039f"
            ],
            [
             0.2222222222222222,
             "#7201a8"
            ],
            [
             0.3333333333333333,
             "#9c179e"
            ],
            [
             0.4444444444444444,
             "#bd3786"
            ],
            [
             0.5555555555555556,
             "#d8576b"
            ],
            [
             0.6666666666666666,
             "#ed7953"
            ],
            [
             0.7777777777777778,
             "#fb9f3a"
            ],
            [
             0.8888888888888888,
             "#fdca26"
            ],
            [
             1,
             "#f0f921"
            ]
           ]
          },
          "colorway": [
           "#636efa",
           "#EF553B",
           "#00cc96",
           "#ab63fa",
           "#FFA15A",
           "#19d3f3",
           "#FF6692",
           "#B6E880",
           "#FF97FF",
           "#FECB52"
          ],
          "font": {
           "color": "#2a3f5f"
          },
          "geo": {
           "bgcolor": "white",
           "lakecolor": "white",
           "landcolor": "#E5ECF6",
           "showlakes": true,
           "showland": true,
           "subunitcolor": "white"
          },
          "hoverlabel": {
           "align": "left"
          },
          "hovermode": "closest",
          "mapbox": {
           "style": "light"
          },
          "paper_bgcolor": "white",
          "plot_bgcolor": "#E5ECF6",
          "polar": {
           "angularaxis": {
            "gridcolor": "white",
            "linecolor": "white",
            "ticks": ""
           },
           "bgcolor": "#E5ECF6",
           "radialaxis": {
            "gridcolor": "white",
            "linecolor": "white",
            "ticks": ""
           }
          },
          "scene": {
           "xaxis": {
            "backgroundcolor": "#E5ECF6",
            "gridcolor": "white",
            "gridwidth": 2,
            "linecolor": "white",
            "showbackground": true,
            "ticks": "",
            "zerolinecolor": "white"
           },
           "yaxis": {
            "backgroundcolor": "#E5ECF6",
            "gridcolor": "white",
            "gridwidth": 2,
            "linecolor": "white",
            "showbackground": true,
            "ticks": "",
            "zerolinecolor": "white"
           },
           "zaxis": {
            "backgroundcolor": "#E5ECF6",
            "gridcolor": "white",
            "gridwidth": 2,
            "linecolor": "white",
            "showbackground": true,
            "ticks": "",
            "zerolinecolor": "white"
           }
          },
          "shapedefaults": {
           "line": {
            "color": "#2a3f5f"
           }
          },
          "ternary": {
           "aaxis": {
            "gridcolor": "white",
            "linecolor": "white",
            "ticks": ""
           },
           "baxis": {
            "gridcolor": "white",
            "linecolor": "white",
            "ticks": ""
           },
           "bgcolor": "#E5ECF6",
           "caxis": {
            "gridcolor": "white",
            "linecolor": "white",
            "ticks": ""
           }
          },
          "title": {
           "x": 0.05
          },
          "xaxis": {
           "automargin": true,
           "gridcolor": "white",
           "linecolor": "white",
           "ticks": "",
           "title": {
            "standoff": 15
           },
           "zerolinecolor": "white",
           "zerolinewidth": 2
          },
          "yaxis": {
           "automargin": true,
           "gridcolor": "white",
           "linecolor": "white",
           "ticks": "",
           "title": {
            "standoff": 15
           },
           "zerolinecolor": "white",
           "zerolinewidth": 2
          }
         }
        },
        "xaxis": {
         "anchor": "y",
         "constrain": "domain",
         "domain": [
          0,
          1
         ],
         "scaleanchor": "y"
        },
        "yaxis": {
         "anchor": "x",
         "autorange": "reversed",
         "constrain": "domain",
         "domain": [
          0,
          1
         ]
        }
       }
      }
     },
     "metadata": {},
     "output_type": "display_data"
    },
    {
     "data": {
      "application/vnd.plotly.v1+json": {
       "config": {
        "plotlyServerURL": "https://plot.ly"
       },
       "data": [
        {
         "coloraxis": "coloraxis",
         "hovertemplate": "x: %{x}<br>y: %{y}<br>color: %{z}<extra></extra>",
         "name": "0",
         "type": "heatmap",
         "xaxis": "x",
         "yaxis": "y",
         "z": [
          [
           1.0244319438934326,
           -1.0116510391235352,
           0.0005829728324897587,
           -0.0024271211586892605,
           0.0008471783366985619,
           -0.00001480518767493777,
           0.0033868825994431973,
           -0.0006693563191220164,
           -0.0007580645033158362,
           -0.0010645276634022593,
           0.0013020869810134172,
           -0.0010047625983133912,
           0.0003632072766777128,
           0.0005419222870841622,
           0.002582869026809931,
           -0.0032521516550332308,
           0.0001879804622149095,
           -0.0000824118687887676,
           -0.0012625698000192642,
           0.0008055543294176459
          ],
          [
           -1.0116510391235352,
           0.9990571737289429,
           0.0007587929721921682,
           -0.0013231269549578428,
           0.0002481277333572507,
           0.003673971863463521,
           -0.000007223125521704787,
           0.0007064769743010402,
           -0.002506264252588153,
           0.000010258829206577502,
           -0.002510094316676259,
           0.0009873604867607355,
           -0.0003463203029241413,
           -0.0005362895899452269,
           -0.002555449027568102,
           0.00318731926381588,
           -0.00018092924437951297,
           0.00009415340173291042,
           0.0012292696628719568,
           -0.0007996907224878669
          ],
          [
           0.0005829728324897587,
           0.0007587929721921682,
           1.0233441591262817,
           0.0008713678689673543,
           0.0016595122870057821,
           -0.0015272630844265223,
           0.0005153663223609328,
           -0.00123742432333529,
           -0.0036595962010324,
           0.0006409424240700901,
           -0.9364858865737915,
           0.0010005926014855504,
           0.0011193921091035008,
           0.003910966217517853,
           -0.00251766643486917,
           -0.0016769453650340438,
           0.002704519545659423,
           -0.00002699196556932293,
           0.0017728350358083844,
           -0.0013134443433955312
          ],
          [
           -0.0024271211586892605,
           -0.0013231269549578428,
           0.0008713678689673543,
           1.0163477659225464,
           0.00014266179641708732,
           -0.9983140826225281,
           0.0021860208362340927,
           -0.010816231369972229,
           -0.00031511057750321925,
           0.0016594742191955447,
           0.00021332621690817177,
           0.002799689769744873,
           -0.002346679102629423,
           0.0000948522356338799,
           -0.00031637802021577954,
           0.005228095687925816,
           -0.0017776803579181433,
           -0.004989575129002333,
           0.0016759729478508234,
           0.0006388642941601574
          ],
          [
           0.0008471783366985619,
           0.0002481277333572507,
           0.0016595122870057821,
           0.00014266179641708732,
           1.0103437900543213,
           0.0011692676926031709,
           -0.0008220859454013407,
           -0.00155545468442142,
           0.0005792747833766043,
           -0.9613057971000671,
           -0.001461194478906691,
           0.002122132806107402,
           0.0024911509826779366,
           0.0018640944035723805,
           0.0045274170115590096,
           0.0032090863678604364,
           0.0007427465170621872,
           -0.004429763648658991,
           0.00009239508653990924,
           0.0012770596658810973
          ],
          [
           -0.00001480518767493777,
           0.003673971863463521,
           -0.0015272630844265223,
           -0.9983140826225281,
           0.0011692676926031709,
           0.980610191822052,
           -0.0007144694682210684,
           0.010628670454025269,
           -0.0010872290004044771,
           -0.002878995845094323,
           0.0004008724936284125,
           -0.0027448018081486225,
           0.0023065456189215183,
           -0.00009798251994652674,
           0.0003090167010668665,
           -0.005125228315591812,
           0.0017422540113329887,
           0.004895215854048729,
           -0.0016502954531461,
           -0.000627540925052017
          ],
          [
           0.0033868825994431973,
           -0.000007223125521704787,
           0.0005153663223609328,
           0.0021860208362340927,
           -0.0008220859454013407,
           -0.0007144694682210684,
           0.9963967204093933,
           0.0026985318399965763,
           -0.9684574007987976,
           -0.0007766943308524787,
           -0.00027719835634343326,
           0.0005354299792088568,
           -0.00011396382615203038,
           -0.0023441435769200325,
           -0.0022316372487694025,
           -0.0019089635461568832,
           -0.0018273781752213836,
           -0.00022061227355152369,
           -0.004120885394513607,
           -0.00044248023186810315
          ],
          [
           -0.0006693563191220164,
           0.0007064769743010402,
           -0.00123742432333529,
           -0.010816231369972229,
           -0.00155545468442142,
           0.010628670454025269,
           0.0026985318399965763,
           0.00012688004062511027,
           -0.0026397479232400656,
           0.0014540983829647303,
           0.0011208174983039498,
           -0.000032113210181705654,
           0.000019266804883955047,
           -0.000015334913769038394,
           -0.000008425908163189888,
           -0.00006156966264825314,
           0.000009425396456208546,
           0.00005940945993643254,
           -0.00003051129897357896,
           -0.00000894851746124914
          ],
          [
           -0.0007580645033158362,
           -0.002506264252588153,
           -0.0036595962010324,
           -0.00031511057750321925,
           0.0005792747833766043,
           -0.0010872290004044771,
           -0.9684574007987976,
           -0.0026397479232400656,
           0.9413207769393921,
           0.0009597205789759755,
           0.0031663510017096996,
           -0.0005214514094404876,
           0.00010347850184189156,
           0.002267469884827733,
           0.002181729767471552,
           0.001861237338744104,
           0.0017649290384724736,
           0.00020633210078813136,
           0.003999750129878521,
           0.0004370015230961144
          ],
          [
           -0.0010645276634022593,
           0.000010258829206577502,
           0.0006409424240700901,
           0.0016594742191955447,
           -0.9613057971000671,
           -0.002878995845094323,
           -0.0007766943308524787,
           0.0014540983829647303,
           0.0009597205789759755,
           0.9146583676338196,
           -0.0006401874707080424,
           -0.0020126202143728733,
           -0.0023718823213130236,
           -0.00176143366843462,
           -0.004310845863074064,
           -0.003043954726308584,
           -0.0007011558627709746,
           0.004206272307783365,
           -0.00007433179416693747,
           -0.001216304604895413
          ],
          [
           0.0013020869810134172,
           -0.002510094316676259,
           -0.9364858865737915,
           0.00021332621690817177,
           -0.001461194478906691,
           0.0004008724936284125,
           -0.00027719835634343326,
           0.0011208174983039498,
           0.0031663510017096996,
           -0.0006401874707080424,
           0.8570043444633484,
           -0.0009144569630734622,
           -0.0010259588016197085,
           -0.0035782924387604,
           0.00230813049711287,
           0.0015338227385655046,
           -0.002476711990311742,
           0.000019285267626401037,
           -0.0016237222589552402,
           0.0012040367582812905
          ],
          [
           -0.0010047625983133912,
           0.0009873604867607355,
           0.0010005926014855504,
           0.002799689769744873,
           0.002122132806107402,
           -0.0027448018081486225,
           0.0005354299792088568,
           -0.000032113210181705654,
           -0.0005214514094404876,
           -0.0020126202143728733,
           -0.0009144569630734622,
           0.000014397874110727571,
           -5.508671847564983e-7,
           0.000006191125521581853,
           0.0000024652704269101378,
           0.000021643749278155155,
           -0.0000018627167719387216,
           -0.00002308644980075769,
           0.0000055536311265314,
           0.000002136012881237548
          ],
          [
           0.0003632072766777128,
           -0.0003463203029241413,
           0.0011193921091035008,
           -0.002346679102629423,
           0.0024911509826779366,
           0.0023065456189215183,
           -0.00011396382615203038,
           0.000019266804883955047,
           0.00010347850184189156,
           -0.0023718823213130236,
           -0.0010259588016197085,
           -5.508671847564983e-7,
           0.000012916939340357203,
           0.000009086757927434519,
           0.000010275688509864267,
           -0.000006916268830536865,
           0.000009151806807494722,
           5.736426373914583e-7,
           -0.0000016956240642684861,
           5.649033028021222e-7
          ],
          [
           0.0005419222870841622,
           -0.0005362895899452269,
           0.003910966217517853,
           0.0000948522356338799,
           0.0018640944035723805,
           -0.00009798251994652674,
           -0.0023441435769200325,
           -0.000015334913769038394,
           0.002267469884827733,
           -0.00176143366843462,
           -0.0035782924387604,
           0.000006191125521581853,
           0.000009086757927434519,
           0.000024180211767088622,
           0.0000053003718676336575,
           0.0000027517860416992335,
           0.00001592708758835215,
           -0.000008241785508289468,
           0.000016134024917846546,
           -0.0000011385360494386987
          ],
          [
           0.002582869026809931,
           -0.002555449027568102,
           -0.00251766643486917,
           -0.00031637802021577954,
           0.0045274170115590096,
           0.0003090167010668665,
           -0.0022316372487694025,
           -0.000008425908163189888,
           0.002181729767471552,
           -0.004310845863074064,
           0.00230813049711287,
           0.0000024652704269101378,
           0.000010275688509864267,
           0.0000053003718676336575,
           0.00003812370414379984,
           0.00001302293730987003,
           0.000001759259362188459,
           -0.000018005901438300498,
           0.000001591362661201856,
           0.0000117996969493106
          ],
          [
           -0.0032521516550332308,
           0.00318731926381588,
           -0.0016769453650340438,
           0.005228095687925816,
           0.0032090863678604364,
           -0.005125228315591812,
           -0.0019089635461568832,
           -0.00006156966264825314,
           0.001861237338744104,
           -0.003043954726308584,
           0.0015338227385655046,
           0.000021643749278155155,
           -0.000006916268830536865,
           0.0000027517860416992335,
           0.00001302293730987003,
           0.00005376376793719828,
           -0.000008326725037477445,
           -0.000039010978071019053,
           0.00001786361463018693,
           0.000007808803275111131
          ],
          [
           0.0001879804622149095,
           -0.00018092924437951297,
           0.002704519545659423,
           -0.0017776803579181433,
           0.0007427465170621872,
           0.0017422540113329887,
           -0.0018273781752213836,
           0.000009425396456208546,
           0.0017649290384724736,
           -0.0007011558627709746,
           -0.002476711990311742,
           -0.0000018627167719387216,
           0.000009151806807494722,
           0.00001592708758835215,
           0.000001759259362188459,
           -0.000008326725037477445,
           0.000014179495337884873,
           0.000005803689873573603,
           0.000009142759154201485,
           -0.000002699250444493373
          ],
          [
           -0.0000824118687887676,
           0.00009415340173291042,
           -0.00002699196556932293,
           -0.004989575129002333,
           -0.004429763648658991,
           0.004895215854048729,
           -0.00022061227355152369,
           0.00005940945993643254,
           0.00020633210078813136,
           0.004206272307783365,
           0.000019285267626401037,
           -0.00002308644980075769,
           5.736426373914583e-7,
           -0.000008241785508289468,
           -0.000018005901438300498,
           -0.000039010978071019053,
           0.000005803689873573603,
           0.000043965043005300686,
           -0.00000766547782404814,
           -0.000008690590220794547
          ],
          [
           -0.0012625698000192642,
           0.0012292696628719568,
           0.0017728350358083844,
           0.0016759729478508234,
           0.00009239508653990924,
           -0.0016502954531461,
           -0.004120885394513607,
           -0.00003051129897357896,
           0.003999750129878521,
           -0.00007433179416693747,
           -0.0016237222589552402,
           0.0000055536311265314,
           -0.0000016956240642684861,
           0.000016134024917846546,
           0.000001591362661201856,
           0.00001786361463018693,
           0.000009142759154201485,
           -0.00000766547782404814,
           0.000024432223654002883,
           -2.6013955789494503e-7
          ],
          [
           0.0008055543294176459,
           -0.0007996907224878669,
           -0.0013134443433955312,
           0.0006388642941601574,
           0.0012770596658810973,
           -0.000627540925052017,
           -0.00044248023186810315,
           -0.00000894851746124914,
           0.0004370015230961144,
           -0.001216304604895413,
           0.0012040367582812905,
           0.000002136012881237548,
           5.649033028021222e-7,
           -0.0000011385360494386987,
           0.0000117996969493106,
           0.000007808803275111131,
           -0.000002699250444493373,
           -0.000008690590220794547,
           -2.6013955789494503e-7,
           0.000004542056103673531
          ]
         ]
        }
       ],
       "layout": {
        "coloraxis": {
         "cmax": 1,
         "cmin": -1,
         "colorscale": [
          [
           0,
           "rgb(5,48,97)"
          ],
          [
           0.1,
           "rgb(33,102,172)"
          ],
          [
           0.2,
           "rgb(67,147,195)"
          ],
          [
           0.3,
           "rgb(146,197,222)"
          ],
          [
           0.4,
           "rgb(209,229,240)"
          ],
          [
           0.5,
           "rgb(247,247,247)"
          ],
          [
           0.6,
           "rgb(253,219,199)"
          ],
          [
           0.7,
           "rgb(244,165,130)"
          ],
          [
           0.8,
           "rgb(214,96,77)"
          ],
          [
           0.9,
           "rgb(178,24,43)"
          ],
          [
           1,
           "rgb(103,0,31)"
          ]
         ]
        },
        "margin": {
         "t": 60
        },
        "template": {
         "data": {
          "bar": [
           {
            "error_x": {
             "color": "#2a3f5f"
            },
            "error_y": {
             "color": "#2a3f5f"
            },
            "marker": {
             "line": {
              "color": "#E5ECF6",
              "width": 0.5
             },
             "pattern": {
              "fillmode": "overlay",
              "size": 10,
              "solidity": 0.2
             }
            },
            "type": "bar"
           }
          ],
          "barpolar": [
           {
            "marker": {
             "line": {
              "color": "#E5ECF6",
              "width": 0.5
             },
             "pattern": {
              "fillmode": "overlay",
              "size": 10,
              "solidity": 0.2
             }
            },
            "type": "barpolar"
           }
          ],
          "carpet": [
           {
            "aaxis": {
             "endlinecolor": "#2a3f5f",
             "gridcolor": "white",
             "linecolor": "white",
             "minorgridcolor": "white",
             "startlinecolor": "#2a3f5f"
            },
            "baxis": {
             "endlinecolor": "#2a3f5f",
             "gridcolor": "white",
             "linecolor": "white",
             "minorgridcolor": "white",
             "startlinecolor": "#2a3f5f"
            },
            "type": "carpet"
           }
          ],
          "choropleth": [
           {
            "colorbar": {
             "outlinewidth": 0,
             "ticks": ""
            },
            "type": "choropleth"
           }
          ],
          "contour": [
           {
            "colorbar": {
             "outlinewidth": 0,
             "ticks": ""
            },
            "colorscale": [
             [
              0,
              "#0d0887"
             ],
             [
              0.1111111111111111,
              "#46039f"
             ],
             [
              0.2222222222222222,
              "#7201a8"
             ],
             [
              0.3333333333333333,
              "#9c179e"
             ],
             [
              0.4444444444444444,
              "#bd3786"
             ],
             [
              0.5555555555555556,
              "#d8576b"
             ],
             [
              0.6666666666666666,
              "#ed7953"
             ],
             [
              0.7777777777777778,
              "#fb9f3a"
             ],
             [
              0.8888888888888888,
              "#fdca26"
             ],
             [
              1,
              "#f0f921"
             ]
            ],
            "type": "contour"
           }
          ],
          "contourcarpet": [
           {
            "colorbar": {
             "outlinewidth": 0,
             "ticks": ""
            },
            "type": "contourcarpet"
           }
          ],
          "heatmap": [
           {
            "colorbar": {
             "outlinewidth": 0,
             "ticks": ""
            },
            "colorscale": [
             [
              0,
              "#0d0887"
             ],
             [
              0.1111111111111111,
              "#46039f"
             ],
             [
              0.2222222222222222,
              "#7201a8"
             ],
             [
              0.3333333333333333,
              "#9c179e"
             ],
             [
              0.4444444444444444,
              "#bd3786"
             ],
             [
              0.5555555555555556,
              "#d8576b"
             ],
             [
              0.6666666666666666,
              "#ed7953"
             ],
             [
              0.7777777777777778,
              "#fb9f3a"
             ],
             [
              0.8888888888888888,
              "#fdca26"
             ],
             [
              1,
              "#f0f921"
             ]
            ],
            "type": "heatmap"
           }
          ],
          "heatmapgl": [
           {
            "colorbar": {
             "outlinewidth": 0,
             "ticks": ""
            },
            "colorscale": [
             [
              0,
              "#0d0887"
             ],
             [
              0.1111111111111111,
              "#46039f"
             ],
             [
              0.2222222222222222,
              "#7201a8"
             ],
             [
              0.3333333333333333,
              "#9c179e"
             ],
             [
              0.4444444444444444,
              "#bd3786"
             ],
             [
              0.5555555555555556,
              "#d8576b"
             ],
             [
              0.6666666666666666,
              "#ed7953"
             ],
             [
              0.7777777777777778,
              "#fb9f3a"
             ],
             [
              0.8888888888888888,
              "#fdca26"
             ],
             [
              1,
              "#f0f921"
             ]
            ],
            "type": "heatmapgl"
           }
          ],
          "histogram": [
           {
            "marker": {
             "pattern": {
              "fillmode": "overlay",
              "size": 10,
              "solidity": 0.2
             }
            },
            "type": "histogram"
           }
          ],
          "histogram2d": [
           {
            "colorbar": {
             "outlinewidth": 0,
             "ticks": ""
            },
            "colorscale": [
             [
              0,
              "#0d0887"
             ],
             [
              0.1111111111111111,
              "#46039f"
             ],
             [
              0.2222222222222222,
              "#7201a8"
             ],
             [
              0.3333333333333333,
              "#9c179e"
             ],
             [
              0.4444444444444444,
              "#bd3786"
             ],
             [
              0.5555555555555556,
              "#d8576b"
             ],
             [
              0.6666666666666666,
              "#ed7953"
             ],
             [
              0.7777777777777778,
              "#fb9f3a"
             ],
             [
              0.8888888888888888,
              "#fdca26"
             ],
             [
              1,
              "#f0f921"
             ]
            ],
            "type": "histogram2d"
           }
          ],
          "histogram2dcontour": [
           {
            "colorbar": {
             "outlinewidth": 0,
             "ticks": ""
            },
            "colorscale": [
             [
              0,
              "#0d0887"
             ],
             [
              0.1111111111111111,
              "#46039f"
             ],
             [
              0.2222222222222222,
              "#7201a8"
             ],
             [
              0.3333333333333333,
              "#9c179e"
             ],
             [
              0.4444444444444444,
              "#bd3786"
             ],
             [
              0.5555555555555556,
              "#d8576b"
             ],
             [
              0.6666666666666666,
              "#ed7953"
             ],
             [
              0.7777777777777778,
              "#fb9f3a"
             ],
             [
              0.8888888888888888,
              "#fdca26"
             ],
             [
              1,
              "#f0f921"
             ]
            ],
            "type": "histogram2dcontour"
           }
          ],
          "mesh3d": [
           {
            "colorbar": {
             "outlinewidth": 0,
             "ticks": ""
            },
            "type": "mesh3d"
           }
          ],
          "parcoords": [
           {
            "line": {
             "colorbar": {
              "outlinewidth": 0,
              "ticks": ""
             }
            },
            "type": "parcoords"
           }
          ],
          "pie": [
           {
            "automargin": true,
            "type": "pie"
           }
          ],
          "scatter": [
           {
            "fillpattern": {
             "fillmode": "overlay",
             "size": 10,
             "solidity": 0.2
            },
            "type": "scatter"
           }
          ],
          "scatter3d": [
           {
            "line": {
             "colorbar": {
              "outlinewidth": 0,
              "ticks": ""
             }
            },
            "marker": {
             "colorbar": {
              "outlinewidth": 0,
              "ticks": ""
             }
            },
            "type": "scatter3d"
           }
          ],
          "scattercarpet": [
           {
            "marker": {
             "colorbar": {
              "outlinewidth": 0,
              "ticks": ""
             }
            },
            "type": "scattercarpet"
           }
          ],
          "scattergeo": [
           {
            "marker": {
             "colorbar": {
              "outlinewidth": 0,
              "ticks": ""
             }
            },
            "type": "scattergeo"
           }
          ],
          "scattergl": [
           {
            "marker": {
             "colorbar": {
              "outlinewidth": 0,
              "ticks": ""
             }
            },
            "type": "scattergl"
           }
          ],
          "scattermapbox": [
           {
            "marker": {
             "colorbar": {
              "outlinewidth": 0,
              "ticks": ""
             }
            },
            "type": "scattermapbox"
           }
          ],
          "scatterpolar": [
           {
            "marker": {
             "colorbar": {
              "outlinewidth": 0,
              "ticks": ""
             }
            },
            "type": "scatterpolar"
           }
          ],
          "scatterpolargl": [
           {
            "marker": {
             "colorbar": {
              "outlinewidth": 0,
              "ticks": ""
             }
            },
            "type": "scatterpolargl"
           }
          ],
          "scatterternary": [
           {
            "marker": {
             "colorbar": {
              "outlinewidth": 0,
              "ticks": ""
             }
            },
            "type": "scatterternary"
           }
          ],
          "surface": [
           {
            "colorbar": {
             "outlinewidth": 0,
             "ticks": ""
            },
            "colorscale": [
             [
              0,
              "#0d0887"
             ],
             [
              0.1111111111111111,
              "#46039f"
             ],
             [
              0.2222222222222222,
              "#7201a8"
             ],
             [
              0.3333333333333333,
              "#9c179e"
             ],
             [
              0.4444444444444444,
              "#bd3786"
             ],
             [
              0.5555555555555556,
              "#d8576b"
             ],
             [
              0.6666666666666666,
              "#ed7953"
             ],
             [
              0.7777777777777778,
              "#fb9f3a"
             ],
             [
              0.8888888888888888,
              "#fdca26"
             ],
             [
              1,
              "#f0f921"
             ]
            ],
            "type": "surface"
           }
          ],
          "table": [
           {
            "cells": {
             "fill": {
              "color": "#EBF0F8"
             },
             "line": {
              "color": "white"
             }
            },
            "header": {
             "fill": {
              "color": "#C8D4E3"
             },
             "line": {
              "color": "white"
             }
            },
            "type": "table"
           }
          ]
         },
         "layout": {
          "annotationdefaults": {
           "arrowcolor": "#2a3f5f",
           "arrowhead": 0,
           "arrowwidth": 1
          },
          "autotypenumbers": "strict",
          "coloraxis": {
           "colorbar": {
            "outlinewidth": 0,
            "ticks": ""
           }
          },
          "colorscale": {
           "diverging": [
            [
             0,
             "#8e0152"
            ],
            [
             0.1,
             "#c51b7d"
            ],
            [
             0.2,
             "#de77ae"
            ],
            [
             0.3,
             "#f1b6da"
            ],
            [
             0.4,
             "#fde0ef"
            ],
            [
             0.5,
             "#f7f7f7"
            ],
            [
             0.6,
             "#e6f5d0"
            ],
            [
             0.7,
             "#b8e186"
            ],
            [
             0.8,
             "#7fbc41"
            ],
            [
             0.9,
             "#4d9221"
            ],
            [
             1,
             "#276419"
            ]
           ],
           "sequential": [
            [
             0,
             "#0d0887"
            ],
            [
             0.1111111111111111,
             "#46039f"
            ],
            [
             0.2222222222222222,
             "#7201a8"
            ],
            [
             0.3333333333333333,
             "#9c179e"
            ],
            [
             0.4444444444444444,
             "#bd3786"
            ],
            [
             0.5555555555555556,
             "#d8576b"
            ],
            [
             0.6666666666666666,
             "#ed7953"
            ],
            [
             0.7777777777777778,
             "#fb9f3a"
            ],
            [
             0.8888888888888888,
             "#fdca26"
            ],
            [
             1,
             "#f0f921"
            ]
           ],
           "sequentialminus": [
            [
             0,
             "#0d0887"
            ],
            [
             0.1111111111111111,
             "#46039f"
            ],
            [
             0.2222222222222222,
             "#7201a8"
            ],
            [
             0.3333333333333333,
             "#9c179e"
            ],
            [
             0.4444444444444444,
             "#bd3786"
            ],
            [
             0.5555555555555556,
             "#d8576b"
            ],
            [
             0.6666666666666666,
             "#ed7953"
            ],
            [
             0.7777777777777778,
             "#fb9f3a"
            ],
            [
             0.8888888888888888,
             "#fdca26"
            ],
            [
             1,
             "#f0f921"
            ]
           ]
          },
          "colorway": [
           "#636efa",
           "#EF553B",
           "#00cc96",
           "#ab63fa",
           "#FFA15A",
           "#19d3f3",
           "#FF6692",
           "#B6E880",
           "#FF97FF",
           "#FECB52"
          ],
          "font": {
           "color": "#2a3f5f"
          },
          "geo": {
           "bgcolor": "white",
           "lakecolor": "white",
           "landcolor": "#E5ECF6",
           "showlakes": true,
           "showland": true,
           "subunitcolor": "white"
          },
          "hoverlabel": {
           "align": "left"
          },
          "hovermode": "closest",
          "mapbox": {
           "style": "light"
          },
          "paper_bgcolor": "white",
          "plot_bgcolor": "#E5ECF6",
          "polar": {
           "angularaxis": {
            "gridcolor": "white",
            "linecolor": "white",
            "ticks": ""
           },
           "bgcolor": "#E5ECF6",
           "radialaxis": {
            "gridcolor": "white",
            "linecolor": "white",
            "ticks": ""
           }
          },
          "scene": {
           "xaxis": {
            "backgroundcolor": "#E5ECF6",
            "gridcolor": "white",
            "gridwidth": 2,
            "linecolor": "white",
            "showbackground": true,
            "ticks": "",
            "zerolinecolor": "white"
           },
           "yaxis": {
            "backgroundcolor": "#E5ECF6",
            "gridcolor": "white",
            "gridwidth": 2,
            "linecolor": "white",
            "showbackground": true,
            "ticks": "",
            "zerolinecolor": "white"
           },
           "zaxis": {
            "backgroundcolor": "#E5ECF6",
            "gridcolor": "white",
            "gridwidth": 2,
            "linecolor": "white",
            "showbackground": true,
            "ticks": "",
            "zerolinecolor": "white"
           }
          },
          "shapedefaults": {
           "line": {
            "color": "#2a3f5f"
           }
          },
          "ternary": {
           "aaxis": {
            "gridcolor": "white",
            "linecolor": "white",
            "ticks": ""
           },
           "baxis": {
            "gridcolor": "white",
            "linecolor": "white",
            "ticks": ""
           },
           "bgcolor": "#E5ECF6",
           "caxis": {
            "gridcolor": "white",
            "linecolor": "white",
            "ticks": ""
           }
          },
          "title": {
           "x": 0.05
          },
          "xaxis": {
           "automargin": true,
           "gridcolor": "white",
           "linecolor": "white",
           "ticks": "",
           "title": {
            "standoff": 15
           },
           "zerolinecolor": "white",
           "zerolinewidth": 2
          },
          "yaxis": {
           "automargin": true,
           "gridcolor": "white",
           "linecolor": "white",
           "ticks": "",
           "title": {
            "standoff": 15
           },
           "zerolinecolor": "white",
           "zerolinewidth": 2
          }
         }
        },
        "xaxis": {
         "anchor": "y",
         "constrain": "domain",
         "domain": [
          0,
          1
         ],
         "scaleanchor": "y"
        },
        "yaxis": {
         "anchor": "x",
         "autorange": "reversed",
         "constrain": "domain",
         "domain": [
          0,
          1
         ]
        }
       }
      }
     },
     "metadata": {},
     "output_type": "display_data"
    },
    {
     "data": {
      "application/vnd.plotly.v1+json": {
       "config": {
        "plotlyServerURL": "https://plot.ly"
       },
       "data": [
        {
         "coloraxis": "coloraxis",
         "hovertemplate": "x: %{x}<br>y: %{y}<br>color: %{z}<extra></extra>",
         "name": "0",
         "type": "heatmap",
         "xaxis": "x",
         "yaxis": "y",
         "z": [
          [
           0.0010035603772848845
          ],
          [
           0.0027017684187740088
          ],
          [
           0.0007139704539440572
          ],
          [
           0.0011704916832968593
          ],
          [
           0.0014779716730117798
          ],
          [
           0.0028511995915323496
          ],
          [
           0.0020012289751321077
          ],
          [
           0.05071743577718735
          ],
          [
           0.004446714650839567
          ],
          [
           0.0056328363716602325
          ],
          [
           0.008908954448997974
          ],
          [
           0.04982493817806244
          ],
          [
           0.049845561385154724
          ],
          [
           0.04866790771484375
          ],
          [
           0.050314512103796005
          ],
          [
           0.05049603432416916
          ],
          [
           0.046115942299366
          ],
          [
           0.04622399061918259
          ],
          [
           0.049349501729011536
          ],
          [
           0.04617484658956528
          ]
         ]
        }
       ],
       "layout": {
        "coloraxis": {
         "cmax": 1,
         "cmin": -1,
         "colorscale": [
          [
           0,
           "rgb(5,48,97)"
          ],
          [
           0.1,
           "rgb(33,102,172)"
          ],
          [
           0.2,
           "rgb(67,147,195)"
          ],
          [
           0.3,
           "rgb(146,197,222)"
          ],
          [
           0.4,
           "rgb(209,229,240)"
          ],
          [
           0.5,
           "rgb(247,247,247)"
          ],
          [
           0.6,
           "rgb(253,219,199)"
          ],
          [
           0.7,
           "rgb(244,165,130)"
          ],
          [
           0.8,
           "rgb(214,96,77)"
          ],
          [
           0.9,
           "rgb(178,24,43)"
          ],
          [
           1,
           "rgb(103,0,31)"
          ]
         ]
        },
        "margin": {
         "t": 60
        },
        "template": {
         "data": {
          "bar": [
           {
            "error_x": {
             "color": "#2a3f5f"
            },
            "error_y": {
             "color": "#2a3f5f"
            },
            "marker": {
             "line": {
              "color": "#E5ECF6",
              "width": 0.5
             },
             "pattern": {
              "fillmode": "overlay",
              "size": 10,
              "solidity": 0.2
             }
            },
            "type": "bar"
           }
          ],
          "barpolar": [
           {
            "marker": {
             "line": {
              "color": "#E5ECF6",
              "width": 0.5
             },
             "pattern": {
              "fillmode": "overlay",
              "size": 10,
              "solidity": 0.2
             }
            },
            "type": "barpolar"
           }
          ],
          "carpet": [
           {
            "aaxis": {
             "endlinecolor": "#2a3f5f",
             "gridcolor": "white",
             "linecolor": "white",
             "minorgridcolor": "white",
             "startlinecolor": "#2a3f5f"
            },
            "baxis": {
             "endlinecolor": "#2a3f5f",
             "gridcolor": "white",
             "linecolor": "white",
             "minorgridcolor": "white",
             "startlinecolor": "#2a3f5f"
            },
            "type": "carpet"
           }
          ],
          "choropleth": [
           {
            "colorbar": {
             "outlinewidth": 0,
             "ticks": ""
            },
            "type": "choropleth"
           }
          ],
          "contour": [
           {
            "colorbar": {
             "outlinewidth": 0,
             "ticks": ""
            },
            "colorscale": [
             [
              0,
              "#0d0887"
             ],
             [
              0.1111111111111111,
              "#46039f"
             ],
             [
              0.2222222222222222,
              "#7201a8"
             ],
             [
              0.3333333333333333,
              "#9c179e"
             ],
             [
              0.4444444444444444,
              "#bd3786"
             ],
             [
              0.5555555555555556,
              "#d8576b"
             ],
             [
              0.6666666666666666,
              "#ed7953"
             ],
             [
              0.7777777777777778,
              "#fb9f3a"
             ],
             [
              0.8888888888888888,
              "#fdca26"
             ],
             [
              1,
              "#f0f921"
             ]
            ],
            "type": "contour"
           }
          ],
          "contourcarpet": [
           {
            "colorbar": {
             "outlinewidth": 0,
             "ticks": ""
            },
            "type": "contourcarpet"
           }
          ],
          "heatmap": [
           {
            "colorbar": {
             "outlinewidth": 0,
             "ticks": ""
            },
            "colorscale": [
             [
              0,
              "#0d0887"
             ],
             [
              0.1111111111111111,
              "#46039f"
             ],
             [
              0.2222222222222222,
              "#7201a8"
             ],
             [
              0.3333333333333333,
              "#9c179e"
             ],
             [
              0.4444444444444444,
              "#bd3786"
             ],
             [
              0.5555555555555556,
              "#d8576b"
             ],
             [
              0.6666666666666666,
              "#ed7953"
             ],
             [
              0.7777777777777778,
              "#fb9f3a"
             ],
             [
              0.8888888888888888,
              "#fdca26"
             ],
             [
              1,
              "#f0f921"
             ]
            ],
            "type": "heatmap"
           }
          ],
          "heatmapgl": [
           {
            "colorbar": {
             "outlinewidth": 0,
             "ticks": ""
            },
            "colorscale": [
             [
              0,
              "#0d0887"
             ],
             [
              0.1111111111111111,
              "#46039f"
             ],
             [
              0.2222222222222222,
              "#7201a8"
             ],
             [
              0.3333333333333333,
              "#9c179e"
             ],
             [
              0.4444444444444444,
              "#bd3786"
             ],
             [
              0.5555555555555556,
              "#d8576b"
             ],
             [
              0.6666666666666666,
              "#ed7953"
             ],
             [
              0.7777777777777778,
              "#fb9f3a"
             ],
             [
              0.8888888888888888,
              "#fdca26"
             ],
             [
              1,
              "#f0f921"
             ]
            ],
            "type": "heatmapgl"
           }
          ],
          "histogram": [
           {
            "marker": {
             "pattern": {
              "fillmode": "overlay",
              "size": 10,
              "solidity": 0.2
             }
            },
            "type": "histogram"
           }
          ],
          "histogram2d": [
           {
            "colorbar": {
             "outlinewidth": 0,
             "ticks": ""
            },
            "colorscale": [
             [
              0,
              "#0d0887"
             ],
             [
              0.1111111111111111,
              "#46039f"
             ],
             [
              0.2222222222222222,
              "#7201a8"
             ],
             [
              0.3333333333333333,
              "#9c179e"
             ],
             [
              0.4444444444444444,
              "#bd3786"
             ],
             [
              0.5555555555555556,
              "#d8576b"
             ],
             [
              0.6666666666666666,
              "#ed7953"
             ],
             [
              0.7777777777777778,
              "#fb9f3a"
             ],
             [
              0.8888888888888888,
              "#fdca26"
             ],
             [
              1,
              "#f0f921"
             ]
            ],
            "type": "histogram2d"
           }
          ],
          "histogram2dcontour": [
           {
            "colorbar": {
             "outlinewidth": 0,
             "ticks": ""
            },
            "colorscale": [
             [
              0,
              "#0d0887"
             ],
             [
              0.1111111111111111,
              "#46039f"
             ],
             [
              0.2222222222222222,
              "#7201a8"
             ],
             [
              0.3333333333333333,
              "#9c179e"
             ],
             [
              0.4444444444444444,
              "#bd3786"
             ],
             [
              0.5555555555555556,
              "#d8576b"
             ],
             [
              0.6666666666666666,
              "#ed7953"
             ],
             [
              0.7777777777777778,
              "#fb9f3a"
             ],
             [
              0.8888888888888888,
              "#fdca26"
             ],
             [
              1,
              "#f0f921"
             ]
            ],
            "type": "histogram2dcontour"
           }
          ],
          "mesh3d": [
           {
            "colorbar": {
             "outlinewidth": 0,
             "ticks": ""
            },
            "type": "mesh3d"
           }
          ],
          "parcoords": [
           {
            "line": {
             "colorbar": {
              "outlinewidth": 0,
              "ticks": ""
             }
            },
            "type": "parcoords"
           }
          ],
          "pie": [
           {
            "automargin": true,
            "type": "pie"
           }
          ],
          "scatter": [
           {
            "fillpattern": {
             "fillmode": "overlay",
             "size": 10,
             "solidity": 0.2
            },
            "type": "scatter"
           }
          ],
          "scatter3d": [
           {
            "line": {
             "colorbar": {
              "outlinewidth": 0,
              "ticks": ""
             }
            },
            "marker": {
             "colorbar": {
              "outlinewidth": 0,
              "ticks": ""
             }
            },
            "type": "scatter3d"
           }
          ],
          "scattercarpet": [
           {
            "marker": {
             "colorbar": {
              "outlinewidth": 0,
              "ticks": ""
             }
            },
            "type": "scattercarpet"
           }
          ],
          "scattergeo": [
           {
            "marker": {
             "colorbar": {
              "outlinewidth": 0,
              "ticks": ""
             }
            },
            "type": "scattergeo"
           }
          ],
          "scattergl": [
           {
            "marker": {
             "colorbar": {
              "outlinewidth": 0,
              "ticks": ""
             }
            },
            "type": "scattergl"
           }
          ],
          "scattermapbox": [
           {
            "marker": {
             "colorbar": {
              "outlinewidth": 0,
              "ticks": ""
             }
            },
            "type": "scattermapbox"
           }
          ],
          "scatterpolar": [
           {
            "marker": {
             "colorbar": {
              "outlinewidth": 0,
              "ticks": ""
             }
            },
            "type": "scatterpolar"
           }
          ],
          "scatterpolargl": [
           {
            "marker": {
             "colorbar": {
              "outlinewidth": 0,
              "ticks": ""
             }
            },
            "type": "scatterpolargl"
           }
          ],
          "scatterternary": [
           {
            "marker": {
             "colorbar": {
              "outlinewidth": 0,
              "ticks": ""
             }
            },
            "type": "scatterternary"
           }
          ],
          "surface": [
           {
            "colorbar": {
             "outlinewidth": 0,
             "ticks": ""
            },
            "colorscale": [
             [
              0,
              "#0d0887"
             ],
             [
              0.1111111111111111,
              "#46039f"
             ],
             [
              0.2222222222222222,
              "#7201a8"
             ],
             [
              0.3333333333333333,
              "#9c179e"
             ],
             [
              0.4444444444444444,
              "#bd3786"
             ],
             [
              0.5555555555555556,
              "#d8576b"
             ],
             [
              0.6666666666666666,
              "#ed7953"
             ],
             [
              0.7777777777777778,
              "#fb9f3a"
             ],
             [
              0.8888888888888888,
              "#fdca26"
             ],
             [
              1,
              "#f0f921"
             ]
            ],
            "type": "surface"
           }
          ],
          "table": [
           {
            "cells": {
             "fill": {
              "color": "#EBF0F8"
             },
             "line": {
              "color": "white"
             }
            },
            "header": {
             "fill": {
              "color": "#C8D4E3"
             },
             "line": {
              "color": "white"
             }
            },
            "type": "table"
           }
          ]
         },
         "layout": {
          "annotationdefaults": {
           "arrowcolor": "#2a3f5f",
           "arrowhead": 0,
           "arrowwidth": 1
          },
          "autotypenumbers": "strict",
          "coloraxis": {
           "colorbar": {
            "outlinewidth": 0,
            "ticks": ""
           }
          },
          "colorscale": {
           "diverging": [
            [
             0,
             "#8e0152"
            ],
            [
             0.1,
             "#c51b7d"
            ],
            [
             0.2,
             "#de77ae"
            ],
            [
             0.3,
             "#f1b6da"
            ],
            [
             0.4,
             "#fde0ef"
            ],
            [
             0.5,
             "#f7f7f7"
            ],
            [
             0.6,
             "#e6f5d0"
            ],
            [
             0.7,
             "#b8e186"
            ],
            [
             0.8,
             "#7fbc41"
            ],
            [
             0.9,
             "#4d9221"
            ],
            [
             1,
             "#276419"
            ]
           ],
           "sequential": [
            [
             0,
             "#0d0887"
            ],
            [
             0.1111111111111111,
             "#46039f"
            ],
            [
             0.2222222222222222,
             "#7201a8"
            ],
            [
             0.3333333333333333,
             "#9c179e"
            ],
            [
             0.4444444444444444,
             "#bd3786"
            ],
            [
             0.5555555555555556,
             "#d8576b"
            ],
            [
             0.6666666666666666,
             "#ed7953"
            ],
            [
             0.7777777777777778,
             "#fb9f3a"
            ],
            [
             0.8888888888888888,
             "#fdca26"
            ],
            [
             1,
             "#f0f921"
            ]
           ],
           "sequentialminus": [
            [
             0,
             "#0d0887"
            ],
            [
             0.1111111111111111,
             "#46039f"
            ],
            [
             0.2222222222222222,
             "#7201a8"
            ],
            [
             0.3333333333333333,
             "#9c179e"
            ],
            [
             0.4444444444444444,
             "#bd3786"
            ],
            [
             0.5555555555555556,
             "#d8576b"
            ],
            [
             0.6666666666666666,
             "#ed7953"
            ],
            [
             0.7777777777777778,
             "#fb9f3a"
            ],
            [
             0.8888888888888888,
             "#fdca26"
            ],
            [
             1,
             "#f0f921"
            ]
           ]
          },
          "colorway": [
           "#636efa",
           "#EF553B",
           "#00cc96",
           "#ab63fa",
           "#FFA15A",
           "#19d3f3",
           "#FF6692",
           "#B6E880",
           "#FF97FF",
           "#FECB52"
          ],
          "font": {
           "color": "#2a3f5f"
          },
          "geo": {
           "bgcolor": "white",
           "lakecolor": "white",
           "landcolor": "#E5ECF6",
           "showlakes": true,
           "showland": true,
           "subunitcolor": "white"
          },
          "hoverlabel": {
           "align": "left"
          },
          "hovermode": "closest",
          "mapbox": {
           "style": "light"
          },
          "paper_bgcolor": "white",
          "plot_bgcolor": "#E5ECF6",
          "polar": {
           "angularaxis": {
            "gridcolor": "white",
            "linecolor": "white",
            "ticks": ""
           },
           "bgcolor": "#E5ECF6",
           "radialaxis": {
            "gridcolor": "white",
            "linecolor": "white",
            "ticks": ""
           }
          },
          "scene": {
           "xaxis": {
            "backgroundcolor": "#E5ECF6",
            "gridcolor": "white",
            "gridwidth": 2,
            "linecolor": "white",
            "showbackground": true,
            "ticks": "",
            "zerolinecolor": "white"
           },
           "yaxis": {
            "backgroundcolor": "#E5ECF6",
            "gridcolor": "white",
            "gridwidth": 2,
            "linecolor": "white",
            "showbackground": true,
            "ticks": "",
            "zerolinecolor": "white"
           },
           "zaxis": {
            "backgroundcolor": "#E5ECF6",
            "gridcolor": "white",
            "gridwidth": 2,
            "linecolor": "white",
            "showbackground": true,
            "ticks": "",
            "zerolinecolor": "white"
           }
          },
          "shapedefaults": {
           "line": {
            "color": "#2a3f5f"
           }
          },
          "ternary": {
           "aaxis": {
            "gridcolor": "white",
            "linecolor": "white",
            "ticks": ""
           },
           "baxis": {
            "gridcolor": "white",
            "linecolor": "white",
            "ticks": ""
           },
           "bgcolor": "#E5ECF6",
           "caxis": {
            "gridcolor": "white",
            "linecolor": "white",
            "ticks": ""
           }
          },
          "title": {
           "x": 0.05
          },
          "xaxis": {
           "automargin": true,
           "gridcolor": "white",
           "linecolor": "white",
           "ticks": "",
           "title": {
            "standoff": 15
           },
           "zerolinecolor": "white",
           "zerolinewidth": 2
          },
          "yaxis": {
           "automargin": true,
           "gridcolor": "white",
           "linecolor": "white",
           "ticks": "",
           "title": {
            "standoff": 15
           },
           "zerolinecolor": "white",
           "zerolinewidth": 2
          }
         }
        },
        "xaxis": {
         "anchor": "y",
         "constrain": "domain",
         "domain": [
          0,
          1
         ],
         "scaleanchor": "y"
        },
        "yaxis": {
         "anchor": "x",
         "autorange": "reversed",
         "constrain": "domain",
         "domain": [
          0,
          1
         ]
        }
       }
      }
     },
     "metadata": {},
     "output_type": "display_data"
    }
   ],
   "source": [
    "encoder_w = model.encoder.weight.data\n",
    "decoder_w = model.decoder.weight.data\n",
    "\n",
    "visualise_tensor(encoder_w.t())\n",
    "# visualise_tensor(decoder_w.t())\n",
    "\n",
    "visualise_tensor(decoder_w@encoder_w)\n",
    "visualise_tensor(model.decoder.bias.data.reshape(-1,1))"
   ]
  },
  {
   "cell_type": "code",
   "execution_count": 9,
   "metadata": {},
   "outputs": [],
   "source": [
    "x,y = sample_data()"
   ]
  },
  {
   "cell_type": "code",
   "execution_count": 3,
   "metadata": {},
   "outputs": [],
   "source": [
    "data = torch.tensor([])\n",
    "original = torch.tensor([])\n",
    "for i in range(10):\n",
    "    x,y = sample_data()\n",
    "    original = torch.cat((original, x))\n",
    "    _,_,hidden = model(x,x)\n",
    "    data = torch.cat((data,hidden))\n",
    "    \n",
    "\n",
    "torch.save(data, \"data/hidden.pt\")\n",
    "torch.save(original, \"data/original.pt\")\n",
    "PATH = \"models/superpositon.pt\"\n",
    "\n",
    "torch.save(model.state_dict(), PATH)\n",
    "\n"
   ]
  },
  {
   "cell_type": "code",
   "execution_count": 39,
   "metadata": {},
   "outputs": [],
   "source": [
    "LOAD_MODEL = False\n"
   ]
  },
  {
   "cell_type": "code",
   "execution_count": 13,
   "metadata": {},
   "outputs": [
    {
     "data": {
      "text/plain": [
       "torch.Size([32768, 20])"
      ]
     },
     "execution_count": 13,
     "metadata": {},
     "output_type": "execute_result"
    }
   ],
   "source": [
    "x.shape"
   ]
  },
  {
   "cell_type": "code",
   "execution_count": 19,
   "metadata": {},
   "outputs": [],
   "source": [
    "a = torch.cat((a,x))"
   ]
  },
  {
   "cell_type": "code",
   "execution_count": 15,
   "metadata": {},
   "outputs": [
    {
     "data": {
      "text/plain": [
       "tensor([])"
      ]
     },
     "execution_count": 15,
     "metadata": {},
     "output_type": "execute_result"
    }
   ],
   "source": [
    "a"
   ]
  },
  {
   "cell_type": "code",
   "execution_count": 20,
   "metadata": {},
   "outputs": [
    {
     "data": {
      "text/plain": [
       "torch.Size([65536, 20])"
      ]
     },
     "execution_count": 20,
     "metadata": {},
     "output_type": "execute_result"
    }
   ],
   "source": [
    "a.shape"
   ]
  },
  {
   "cell_type": "code",
   "execution_count": null,
   "metadata": {},
   "outputs": [],
   "source": []
  }
 ],
 "metadata": {
  "kernelspec": {
   "display_name": "Python 3",
   "language": "python",
   "name": "python3"
  },
  "language_info": {
   "codemirror_mode": {
    "name": "ipython",
    "version": 3
   },
   "file_extension": ".py",
   "mimetype": "text/x-python",
   "name": "python",
   "nbconvert_exporter": "python",
   "pygments_lexer": "ipython3",
   "version": "3.11.7"
  },
  "orig_nbformat": 4
 },
 "nbformat": 4,
 "nbformat_minor": 2
}
